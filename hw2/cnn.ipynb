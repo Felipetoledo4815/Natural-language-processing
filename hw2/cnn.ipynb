{
  "nbformat": 4,
  "nbformat_minor": 0,
  "metadata": {
    "kernelspec": {
      "name": "python388jvsc74a57bd0336bdb9e57cd699596144781d3896191cc7f291091104ee557bbaee3fcafe96c",
      "display_name": "Python 3.8.8 64-bit ('ai': conda)"
    },
    "language_info": {
      "codemirror_mode": {
        "name": "ipython",
        "version": 3
      },
      "file_extension": ".py",
      "mimetype": "text/x-python",
      "name": "python",
      "nbconvert_exporter": "python",
      "pygments_lexer": "ipython3",
      "version": "3.8.8"
    },
    "colab": {
      "name": "neural_classifier.ipynb",
      "provenance": []
    }
  },
  "cells": [
    {
      "cell_type": "markdown",
      "metadata": {
        "id": "qSPIBRNuxYin"
      },
      "source": [
        "# Neural Classifiers"
      ]
    },
    {
      "cell_type": "code",
      "metadata": {
        "colab": {
          "base_uri": "https://localhost:8080/"
        },
        "id": "ULzaUL0_xYiq",
        "outputId": "a6e7d2db-c12e-4851-e513-bfa853315a8d"
      },
      "source": [
        "# Necessary packages\n",
        "\n",
        "import sys, os, random, math, sys\n",
        "import torch, spacy\n",
        "import numpy as np\n",
        "from torch import nn\n",
        "from tqdm.notebook import trange, tqdm\n",
        "\n",
        "from matplotlib import pyplot as plt\n",
        "\n",
        "from torch import optim\n",
        "from torch.autograd import Variable\n",
        "from torch.nn.utils import clip_grad_norm_ as clip_grad_norm\n",
        "from torch.nn import functional as F\n",
        "\n",
        "\n",
        "## Random seeds, to make the results reproducible\n",
        "seed = 1\n",
        "\n",
        "random.seed(seed)\n",
        "np.random.seed(seed)\n",
        "torch.manual_seed(seed)\n",
        "torch.cuda.manual_seed_all(seed)\n",
        "torch.backends.cudnn.deterministic = True\n",
        "torch.backends.cudnn.benchmark = False\n",
        "print(torch.randn(5))\n",
        "\n",
        "\n",
        "# ## Download the data\n",
        "# !rm -rf sst sst.zip\n",
        "# import urllib.request\n",
        "# url = \"https://yangfengji.net/uva-nlp-course/code/sst.zip\"\n",
        "# filename, headers = urllib.request.urlretrieve(url, filename=\"sst.zip\")\n",
        "# !unzip sst.zip\n",
        "# print(\"Done\")"
      ],
      "execution_count": 19,
      "outputs": [
        {
          "output_type": "stream",
          "name": "stdout",
          "text": [
            "tensor([ 0.6614,  0.2669,  0.0617,  0.6213, -0.4519])\n"
          ]
        }
      ]
    },
    {
      "cell_type": "markdown",
      "metadata": {
        "id": "CFsq6H-wxYir"
      },
      "source": [
        "## 1. Load Data"
      ]
    },
    {
      "cell_type": "markdown",
      "metadata": {
        "id": "DW4HwkptxYir"
      },
      "source": [
        "The following **reader()** function will do three things\n",
        "\n",
        "- read texts from files (line 22 - 25)\n",
        "- build a vocab based on training data (line 29)\n",
        "- convert each set (training, val, test) into a collection of mini-batch vector (line 35 - 39)\n",
        "\n",
        "The **input** to the neural network model defined in the next section is mini-batch word index matrix $\\bf{X}$\n",
        "$$\\bf{X} = [\\bf{x},\\dots,\\bf{x}_B]$$\n",
        "where each $\\bf{x}_i$ is a **column** vector containing word indices from an input text. $B$ is the mini-batch size as explained in the lacture.\n",
        "\n",
        "Sentences in a mini-batch usually have different lengths. To form a matrix $\\bf{X}$, a simple trick is to add a special token \\<pad\\> at the end of shorter sentences. For example, consider the two text examples in the lecture \n",
        "\n",
        "- I like coffee .\n",
        "- I don t like tea .\n",
        "\n",
        "To make these two examples have the same length, the preprocessing code will add two special \\<pad\\> tokens at the end of the first sentence \n",
        "\n",
        "- I like coffee . \\<pad\\> \\<pad\\>"
      ]
    },
    {
      "cell_type": "markdown",
      "metadata": {
        "id": "GSaVFGzWxYir"
      },
      "source": [
        "### 1.1 Define the data processing functions"
      ]
    },
    {
      "cell_type": "code",
      "metadata": {
        "id": "l-T0beERxYis"
      },
      "source": [
        "from torchtext.legacy.data import Field, ReversibleField, Dataset, TabularDataset, BucketIterator, Iterator\n",
        "\n",
        "# Download the 'en' module for spaCy using\n",
        "#  'python -m spacy download en'\n",
        "\n",
        "# spacy_en = spacy.load('en')\n",
        "\n",
        "def tokenize_fn(text):\n",
        "    \"\"\" Tokenization function\n",
        "    \"\"\"\n",
        "    # return [tok.text for tok in spacy_en.tokenizer(text)]\n",
        "    return text.strip().split()\n",
        "\n",
        "\n",
        "def reader(suffix=\".tsv\", rpath=\"sst\", batch_size=8, min_freq=2):\n",
        "    \"\"\"\n",
        "    - suffix: data file suffix\n",
        "    - rpath: path to the data files\n",
        "    - batch_size: mini-batch size\n",
        "    - min_freq: word frequency cutoff, frequency less than min_freq will be removed when building the vocab\n",
        "    \"\"\"\n",
        "    # Utterance Field: text\n",
        "    TXT = Field(sequential=True, tokenize=tokenize_fn, init_token=None, eos_token=None, lower=True)\n",
        "    LABEL = Field(sequential=False, unk_token=None, dtype=torch.long, use_vocab=False)\n",
        "    \n",
        "    # Create a Dataset instance\n",
        "    fields = [(\"label\", LABEL), (\"text\", TXT)]\n",
        "    trn_data = TabularDataset(os.path.join(rpath,'trn'+suffix), format=\"TSV\", fields=fields, skip_header=False)\n",
        "    val_data = TabularDataset(os.path.join(rpath,'val'+suffix), format=\"TSV\", fields=fields, skip_header=False)\n",
        "    tst_data = TabularDataset(os.path.join(rpath,'tst'+suffix), format=\"TSV\", fields=fields, skip_header=False)\n",
        "    \n",
        "    # Split\n",
        "    # Build vocab using training data\n",
        "    TXT.build_vocab(trn_data, min_freq=min_freq) # or max_size=10000\n",
        "    # \n",
        "    train_iter, val_iter, test_iter = BucketIterator.splits((trn_data, val_data, tst_data), # data\n",
        "                                                             batch_size=batch_size, # \n",
        "                                                             sort=True, # sort_key not specified\n",
        "                                                             sort_key = lambda x : len(x.text),\n",
        "                                                             shuffle=False, # shuffle between epochs\n",
        "                                                             repeat=False)\n",
        "    return train_iter, val_iter, test_iter, TXT"
      ],
      "execution_count": 20,
      "outputs": []
    },
    {
      "cell_type": "markdown",
      "metadata": {
        "id": "2DDQGipUxYis"
      },
      "source": [
        "### 1.2 Processing the SST dataset\n",
        "\n",
        "Calling the previously defined functions to process the data. Potentially useful hyper-parameters in the following code block\n",
        "\n",
        "- **batch_size**: the number of training examples in each mini batch, default value: 16\n",
        "- **min_freq**: the cutoff threshold of low-frequency words, default value: 1 (no cutoff)"
      ]
    },
    {
      "cell_type": "code",
      "metadata": {
        "id": "B4i_betyxYit"
      },
      "source": [
        "train_iter, val_iter, test_iter, txtfield = reader(suffix=\".tsv\", rpath=\"sst\", batch_size=16, min_freq=1)\n",
        "vocab_size = len(txtfield.vocab)\n",
        "# print(txtfield.vocab.freqs)\n",
        "print(\"Vocab size = {}\".format(vocab_size))\n",
        "pad = txtfield.vocab.stoi[txtfield.pad_token]\n",
        "\n",
        "print(\"[TRAIN]:%d (dataset:%d)\\t[VAL]:%d (dataset:%d)\\t[TEST]:%d (dataset:%d)\"\n",
        "    % (len(train_iter), len(train_iter.dataset),\n",
        "    len(val_iter), len(val_iter.dataset),\n",
        "    len(test_iter), len(test_iter.dataset)))\n",
        "print(\"[vocab]:%d\" % (vocab_size))"
      ],
      "execution_count": 21,
      "outputs": [
        {
          "output_type": "stream",
          "name": "stdout",
          "text": [
            "Vocab size = 16525\n[TRAIN]:516 (dataset:8256)\t[VAL]:136 (dataset:2171)\t[TEST]:68 (dataset:1084)\n[vocab]:16525\n"
          ]
        }
      ]
    },
    {
      "cell_type": "markdown",
      "metadata": {
        "id": "o9GY_kwixYit"
      },
      "source": [
        "## 2. A Simple Feed-forward Neural Network Classifier"
      ]
    },
    {
      "cell_type": "markdown",
      "metadata": {
        "id": "6587PyWgxYiu"
      },
      "source": [
        "The goal of this section is to demonstrate \n",
        "\n",
        "- how to define a simple neural text classifier\n",
        "- how to train the neural network model with the BP algorithm"
      ]
    },
    {
      "cell_type": "markdown",
      "metadata": {
        "id": "MY6BWIBbxYiu"
      },
      "source": [
        "### 2.1 Define Neural Network Models"
      ]
    },
    {
      "cell_type": "markdown",
      "metadata": {
        "id": "9Kqrjcd7xYiu"
      },
      "source": [
        "This section defines a basic neural network model (as illustrated in the following figure) for text classification. \n",
        "\n",
        "<img src=\"https://raw.github.com/jiyfeng/uva-nlp-course/master/code/figures/nns.png\" alt=\"drawing\" width=\"300\"/>\n",
        "\n",
        "There are two basic components of definiing neural network models in PyTorch\n",
        "\n",
        "- __ init __ (): Initialize an instance\n",
        "- forward(): Forward computation, the network architecture is specified in this function"
      ]
    },
    {
      "cell_type": "code",
      "metadata": {
        "id": "WC8DEpL6xYiv"
      },
      "source": [
        "class NeuralClassifier(nn.Module):\n",
        "    def __init__(self, vocab_size, embed_size, drop_rate=0.0, class_size=2, pad=1):\n",
        "        super(NeuralClassifier, self).__init__()\n",
        "        \"\"\" Initialization\n",
        "        - vocab_size\n",
        "        - embed_size: word embedding size\n",
        "        - drop_rate: dropout rate\n",
        "        - class_size: number of classes. For binary classification, class_size = 2\n",
        "        \"\"\"\n",
        "        # ---------------------------------\n",
        "        # Configuration\n",
        "        self.vocab_size = vocab_size # size of the vocab\n",
        "        self.class_size = class_size # number of classes\n",
        "        self.dropout = nn.Dropout(drop_rate)\n",
        "        self.pad = pad\n",
        "        # ---------------------------------\n",
        "        # Network parameters\n",
        "        self.embed = nn.Embedding(vocab_size, embed_size, padding_idx=pad)\n",
        "        self.fc = nn.Linear(embed_size, class_size, bias=True)\n",
        "\n",
        "\n",
        "    def forward(self, batch):\n",
        "        \"\"\" Forward function\n",
        "        \"\"\"\n",
        "        input, label = batch.text, batch.label\n",
        "        \n",
        "        # ---------------------------------\n",
        "        # === Hidden layer ===\n",
        "        # Sum over all the embeddings for each input text\n",
        "        #   then, pass through the nonlinear Sigmoid function\n",
        "        x = self.embed(input) # Dim: L x B x E\n",
        "        x = self.dropout(x)\n",
        "        hidden = torch.sigmoid(x.sum(axis=0)) # Dim: B x E\n",
        "        \n",
        "        # ---------------------------------\n",
        "        # === Classification layer ===\n",
        "        logit = self.fc(hidden) # Dim: Batch_size x Class_size\n",
        "        # Normalization\n",
        "        logprob = F.log_softmax(logit, dim=1)\n",
        "        \n",
        "        # ---------------------------------\n",
        "        # === Loss function ===\n",
        "        # Compute negative log-likelihood loss\n",
        "        loss = F.cross_entropy(logprob, label)\n",
        "        return loss, logprob\n"
      ],
      "execution_count": 4,
      "outputs": []
    },
    {
      "cell_type": "markdown",
      "metadata": {
        "id": "093e9cOOxYiv"
      },
      "source": [
        "### 2.2 A Convolutional Neural Network Classifier\n",
        "\n",
        "In this section, we will build a CNN classifier based on the specific instructions given in the homework assignment. Mostly, we re-use the data processing code provided in section 1 and the training code provided in section 2.3. In order to train the CNN classifier instead of the simple feedforward neural network classifiers, \n",
        "you need to replace code line 7 in section 2.2.2 with the following line:\n",
        "\n",
        "```Python\n",
        "    model = NeuralClassifier(vocab_size, embed_size=64, drop_rate=0.0, class_size=2)\n",
        "```"
      ]
    },
    {
      "cell_type": "code",
      "metadata": {
        "id": "PL_m5EaAxYiw"
      },
      "source": [
        "class SimpleCNN(nn.Module):\n",
        "    def __init__(self, vocab_size, embed_size, drop_rate=0.0,\n",
        "                 class_size=2, kernel_sizes=[2,3,4],\n",
        "                 dropout=0.0, using_cuda=False, pad=None):\n",
        "        super(SimpleCNN, self).__init__()\n",
        "        # ---------------------------------\n",
        "        # Configuration\n",
        "        self.vocab_size = vocab_size\n",
        "        self.embed_size = embed_size\n",
        "        self.class_size = class_size # number of classes\n",
        "        self.kernel_sizes = kernel_sizes # a list of kernel sizes\n",
        "        self.dropout = nn.Dropout(drop_rate)\n",
        "        self.using_cuda = using_cuda\n",
        "        self.pad = pad # index of <pad> in vocab\n",
        "        # ---------------------------------\n",
        "        # Model Arch\n",
        "        self.embed = nn.Embedding(vocab_size, embed_size, padding_idx=pad)\n",
        "        \n",
        "        self.filter1 = torch.nn.Conv1d(embed_size, embed_size, kernel_sizes[0])\n",
        "        self.filter2 = torch.nn.Conv1d(embed_size, embed_size, kernel_sizes[1])\n",
        "        self.filter3 = torch.nn.Conv1d(embed_size, embed_size, kernel_sizes[2])\n",
        "\n",
        "        self.fc = torch.nn.Linear(3*embed_size, class_size, bias=True)\n",
        "\n",
        "    def forward(self, batch):\n",
        "\n",
        "        input, label = batch.text, batch.label\n",
        "\n",
        "        # ===============================\n",
        "        # Implementation of the CNN specified in the homework\n",
        "        \n",
        "        x = self.embed(input) # Dim: L x B x E\n",
        "        x = x.permute(1,2,0) # Dim: B x E x L\n",
        "        x = self.dropout(x)\n",
        "\n",
        "        f1 = self.filter1(x)\n",
        "        f1 = torch.tanh(f1)\n",
        "        f1 = torch.max(f1, dim=2)[0] # Dim: B x E\n",
        "\n",
        "        f2 = self.filter2(x)\n",
        "        f2 = torch.tanh(f2)\n",
        "        f2 = torch.max(f2, dim=2)[0] # Dim: B x E\n",
        "\n",
        "        f3 = self.filter3(x)\n",
        "        f3 = torch.tanh(f3)\n",
        "        f3 = torch.max(f3, dim=2)[0] # Dim: B x E\n",
        "\n",
        "        out = torch.cat((f1,f2,f3), 1) # Dim: B x 3E\n",
        "        \n",
        "        # === Classification layer ===\n",
        "        logit = self.fc(out) # Dim: Batch_size x Class_size\n",
        "\n",
        "        # ===============================\n",
        "        \n",
        "        # === Loss function ===\n",
        "        # Compute negative log-likelihood loss\n",
        "        logprob = F.log_softmax(logit, dim=1)\n",
        "        loss = F.cross_entropy(logprob, label)\n",
        "        return loss, logprob"
      ],
      "execution_count": 5,
      "outputs": []
    },
    {
      "cell_type": "markdown",
      "metadata": {
        "id": "D_6Pc1cHxYiw"
      },
      "source": [
        "## 2.3 Neural Network Training"
      ]
    },
    {
      "cell_type": "markdown",
      "metadata": {
        "id": "xw_iFk_jxYix"
      },
      "source": [
        "### 2.2.1 Additional functions for mini-batch training and evaluation\n",
        "\n",
        "Define the training function with a mini-batch\n"
      ]
    },
    {
      "cell_type": "code",
      "metadata": {
        "id": "nGXCU5t5xYix"
      },
      "source": [
        "def batch_train(batch, model, optimizer):\n",
        "    \"\"\" Training with one batch\n",
        "    - batch: a min-batch of the data\n",
        "    - model: the defined neural network\n",
        "    - optimizer: optimization method used to update the parameters\n",
        "    \"\"\"\n",
        "    # set in training mode\n",
        "    model.train()\n",
        "    # initialize optimizer\n",
        "    optimizer.zero_grad()\n",
        "    # forward: prediction\n",
        "    loss, _ = model(batch)\n",
        "    # backward: gradient computation\n",
        "    loss.backward()\n",
        "    # norm clipping, in case the gradient norm is too large\n",
        "    clip_grad_norm(model.parameters(), grad_clip)\n",
        "    # gradient-based update parameter\n",
        "    optimizer.step()\n",
        "    return model, loss.item()"
      ],
      "execution_count": 6,
      "outputs": []
    },
    {
      "cell_type": "markdown",
      "metadata": {
        "id": "ekPdScG_xYix"
      },
      "source": [
        "Define the evaluation function"
      ]
    },
    {
      "cell_type": "code",
      "metadata": {
        "id": "7T67PggXxYiy"
      },
      "source": [
        "def eval(data_iter, model):\n",
        "    \"\"\" Evaluate the model with the data\n",
        "    data_iter: the data iterator \n",
        "    model: the defined model\n",
        "    \"\"\"\n",
        "    # set in the eval model, which will trun off the features only used for training, such as droput\n",
        "    model.eval()\n",
        "    # records\n",
        "    val_loss, val_batch = 0, 0\n",
        "    total_example, correct_pred = 0, 0\n",
        "    # iterate all the mini batches for evaluation\n",
        "    for b, batch in enumerate(data_iter):\n",
        "        # Forward: prediction\n",
        "        loss, logprob = model(batch)\n",
        "        # \n",
        "        val_batch += 1\n",
        "        val_loss += loss\n",
        "        # Argmax\n",
        "        max_logprob, pred_label = torch.max(logprob, -1)\n",
        "        correct_pred += (pred_label==batch.label).sum()\n",
        "        total_example += batch.label.size()[0]\n",
        "    acc = (1.0*correct_pred)/total_example\n",
        "    # print(\"val_batch = {}\".format(val_batch))\n",
        "    return (val_loss/val_batch), acc"
      ],
      "execution_count": 7,
      "outputs": []
    },
    {
      "cell_type": "markdown",
      "metadata": {
        "id": "jfTdi_YUxYiy"
      },
      "source": [
        "### 2.2.2 Main function for training\n",
        "\n",
        "There are four blocks in the following code\n",
        "\n",
        "1. Reset the random seed to make sure that everytime you run the following code will get the same results (with the same hyper-parameters)\n",
        "2. Define the model and optimizers. Potentially useful hyper-parameters in this block\n",
        "    - **embed_size**: Word embedding size, default value: 64\n",
        "    - **drop_rate**: Dropout rate, default value: 0 (no dropout)\n",
        "    - **lr**: Initial learning rate ($\\eta_0$), default value: 0.1\n",
        "    - **weight_decay**: $\\ell_2$ regularization parameter, default value: 0 (no $\\ell_2$ regularization)\n",
        "3. Define the numbers of total training epochs and the number of updating steps for calling the validation function. Potentially useful hyper-parameters in this block\n",
        "    - **epoch**: Total training epoch, default value: 5\n",
        "    - **val_step**: Validation steps, default value: 50\n",
        "4. The main function of training"
      ]
    },
    {
      "cell_type": "code",
      "metadata": {
        "scrolled": true,
        "id": "LhD3UJkNxYiz"
      },
      "source": [
        "# -----------------------------------\n",
        "# 1. Random seed\n",
        "torch.manual_seed(seed)\n",
        "\n",
        "# ------------------------------------\n",
        "# 2. Define the model and optimizer\n",
        "# 'ffn': Feed-forward network; 'cnn': Convolutional neural network\n",
        "model_name = 'cnn' \n",
        "if model_name == 'ffn':\n",
        "    model = NeuralClassifier(vocab_size, embed_size=64, drop_rate=0.0, class_size=2)\n",
        "elif model_name == 'cnn':\n",
        "    model = SimpleCNN(vocab_size, embed_size=64, drop_rate=0.0, class_size=2)\n",
        "else:\n",
        "    raise ValueError(\"Unrecognized model name\")\n",
        "# optimizer\n",
        "optimizer = optim.SGD(model.parameters(), lr=1e-1, weight_decay=0)\n",
        "# the norm of grad clipping\n",
        "grad_clip = 1.0\n",
        "\n",
        "# ------------------------------------\n",
        "# 3. Define the numbers of training epochs and validation steps\n",
        "epoch, val_step = 5, 50\n",
        "\n",
        "# ------------------------------------\n",
        "# 4. Training iterations\n",
        "TrnLoss, ValLoss, ValAcc = [], [], []\n",
        "total_batch = 0\n",
        "for e in trange(epoch):\n",
        "    # print(e)\n",
        "    for b, batch in enumerate(train_iter):\n",
        "        total_batch += 1\n",
        "        # Update parameters with one batch\n",
        "        model, loss = batch_train(batch, model, optimizer)\n",
        "        # Compute validation loss after each val_step\n",
        "        if total_batch % val_step == 0:\n",
        "            val_loss, val_acc = eval(val_iter, model)\n",
        "            ValLoss.append(val_loss)\n",
        "            ValAcc.append(val_acc)\n",
        "            TrnLoss.append(loss)\n",
        "print(\"The best validation accuracy = {:.4}\".format(max(ValAcc)))"
      ],
      "execution_count": 13,
      "outputs": [
        {
          "output_type": "display_data",
          "data": {
            "text/plain": "  0%|          | 0/5 [00:00<?, ?it/s]",
            "application/vnd.jupyter.widget-view+json": {
              "version_major": 2,
              "version_minor": 0,
              "model_id": "65f3babd7ba145658a4cc7a72be9cb49"
            }
          },
          "metadata": {}
        },
        {
          "output_type": "stream",
          "name": "stdout",
          "text": [
            "The best validation accuracy = 0.6352\n"
          ]
        }
      ]
    },
    {
      "cell_type": "markdown",
      "metadata": {
        "id": "m33DZO_nxYiz"
      },
      "source": [
        "Plot the training and validation losses along the training steps (each step involves updating with one mini-batch of the training examples). \n",
        "\n",
        "Although the validation loss *fluctuates* along with updating, the over tendency is decreasing, which means the model is learning some information that is useful for prediction.\n",
        "\n",
        "An alterative way of visualizing the following curves dynamically is using [tensorboard](https://pytorch.org/docs/stable/tensorboard.html), which will not be covered in this class."
      ]
    },
    {
      "cell_type": "code",
      "metadata": {
        "id": "4-T5velmxYiz"
      },
      "source": [
        "plt.plot(range(len(TrnLoss)), TrnLoss, color=\"red\", label=\"Training Loss\") # Training loss\n",
        "plt.plot(range(len(ValLoss)), ValLoss, color=\"blue\", label=\"Development Loss\") # Val loss\n",
        "plt.xlabel(\"Steps\")\n",
        "plt.ylabel(\"NLL\")\n",
        "plt.legend()"
      ],
      "execution_count": 12,
      "outputs": [
        {
          "output_type": "execute_result",
          "data": {
            "text/plain": [
              "<matplotlib.legend.Legend at 0x7feaa966e9a0>"
            ]
          },
          "metadata": {},
          "execution_count": 12
        },
        {
          "output_type": "display_data",
          "data": {
            "text/plain": "<Figure size 432x288 with 1 Axes>",
            "image/svg+xml": "<?xml version=\"1.0\" encoding=\"utf-8\" standalone=\"no\"?>\n<!DOCTYPE svg PUBLIC \"-//W3C//DTD SVG 1.1//EN\"\n  \"http://www.w3.org/Graphics/SVG/1.1/DTD/svg11.dtd\">\n<!-- Created with matplotlib (https://matplotlib.org/) -->\n<svg height=\"262.19625pt\" version=\"1.1\" viewBox=\"0 0 392.14375 262.19625\" width=\"392.14375pt\" xmlns=\"http://www.w3.org/2000/svg\" xmlns:xlink=\"http://www.w3.org/1999/xlink\">\n <metadata>\n  <rdf:RDF xmlns:cc=\"http://creativecommons.org/ns#\" xmlns:dc=\"http://purl.org/dc/elements/1.1/\" xmlns:rdf=\"http://www.w3.org/1999/02/22-rdf-syntax-ns#\">\n   <cc:Work>\n    <dc:type rdf:resource=\"http://purl.org/dc/dcmitype/StillImage\"/>\n    <dc:date>2021-03-09T10:51:32.220495</dc:date>\n    <dc:format>image/svg+xml</dc:format>\n    <dc:creator>\n     <cc:Agent>\n      <dc:title>Matplotlib v3.3.1, https://matplotlib.org/</dc:title>\n     </cc:Agent>\n    </dc:creator>\n   </cc:Work>\n  </rdf:RDF>\n </metadata>\n <defs>\n  <style type=\"text/css\">*{stroke-linecap:butt;stroke-linejoin:round;}</style>\n </defs>\n <g id=\"figure_1\">\n  <g id=\"patch_1\">\n   <path d=\"M 0 262.19625 \nL 392.14375 262.19625 \nL 392.14375 0 \nL 0 0 \nz\n\" style=\"fill:none;\"/>\n  </g>\n  <g id=\"axes_1\">\n   <g id=\"patch_2\">\n    <path d=\"M 50.14375 224.64 \nL 384.94375 224.64 \nL 384.94375 7.2 \nL 50.14375 7.2 \nz\n\" style=\"fill:#ffffff;\"/>\n   </g>\n   <g id=\"matplotlib.axis_1\">\n    <g id=\"xtick_1\">\n     <g id=\"line2d_1\">\n      <defs>\n       <path d=\"M 0 0 \nL 0 3.5 \n\" id=\"m2124f0987b\" style=\"stroke:#000000;stroke-width:0.8;\"/>\n      </defs>\n      <g>\n       <use style=\"stroke:#000000;stroke-width:0.8;\" x=\"65.361932\" xlink:href=\"#m2124f0987b\" y=\"224.64\"/>\n      </g>\n     </g>\n     <g id=\"text_1\">\n      <!-- 0 -->\n      <g transform=\"translate(62.180682 239.238438)scale(0.1 -0.1)\">\n       <defs>\n        <path d=\"M 31.78125 66.40625 \nQ 24.171875 66.40625 20.328125 58.90625 \nQ 16.5 51.421875 16.5 36.375 \nQ 16.5 21.390625 20.328125 13.890625 \nQ 24.171875 6.390625 31.78125 6.390625 \nQ 39.453125 6.390625 43.28125 13.890625 \nQ 47.125 21.390625 47.125 36.375 \nQ 47.125 51.421875 43.28125 58.90625 \nQ 39.453125 66.40625 31.78125 66.40625 \nz\nM 31.78125 74.21875 \nQ 44.046875 74.21875 50.515625 64.515625 \nQ 56.984375 54.828125 56.984375 36.375 \nQ 56.984375 17.96875 50.515625 8.265625 \nQ 44.046875 -1.421875 31.78125 -1.421875 \nQ 19.53125 -1.421875 13.0625 8.265625 \nQ 6.59375 17.96875 6.59375 36.375 \nQ 6.59375 54.828125 13.0625 64.515625 \nQ 19.53125 74.21875 31.78125 74.21875 \nz\n\" id=\"DejaVuSans-48\"/>\n       </defs>\n       <use xlink:href=\"#DejaVuSans-48\"/>\n      </g>\n     </g>\n    </g>\n    <g id=\"xtick_2\">\n     <g id=\"line2d_2\">\n      <g>\n       <use style=\"stroke:#000000;stroke-width:0.8;\" x=\"126.234659\" xlink:href=\"#m2124f0987b\" y=\"224.64\"/>\n      </g>\n     </g>\n     <g id=\"text_2\">\n      <!-- 10 -->\n      <g transform=\"translate(119.872159 239.238438)scale(0.1 -0.1)\">\n       <defs>\n        <path d=\"M 12.40625 8.296875 \nL 28.515625 8.296875 \nL 28.515625 63.921875 \nL 10.984375 60.40625 \nL 10.984375 69.390625 \nL 28.421875 72.90625 \nL 38.28125 72.90625 \nL 38.28125 8.296875 \nL 54.390625 8.296875 \nL 54.390625 0 \nL 12.40625 0 \nz\n\" id=\"DejaVuSans-49\"/>\n       </defs>\n       <use xlink:href=\"#DejaVuSans-49\"/>\n       <use x=\"63.623047\" xlink:href=\"#DejaVuSans-48\"/>\n      </g>\n     </g>\n    </g>\n    <g id=\"xtick_3\">\n     <g id=\"line2d_3\">\n      <g>\n       <use style=\"stroke:#000000;stroke-width:0.8;\" x=\"187.107386\" xlink:href=\"#m2124f0987b\" y=\"224.64\"/>\n      </g>\n     </g>\n     <g id=\"text_3\">\n      <!-- 20 -->\n      <g transform=\"translate(180.744886 239.238438)scale(0.1 -0.1)\">\n       <defs>\n        <path d=\"M 19.1875 8.296875 \nL 53.609375 8.296875 \nL 53.609375 0 \nL 7.328125 0 \nL 7.328125 8.296875 \nQ 12.9375 14.109375 22.625 23.890625 \nQ 32.328125 33.6875 34.8125 36.53125 \nQ 39.546875 41.84375 41.421875 45.53125 \nQ 43.3125 49.21875 43.3125 52.78125 \nQ 43.3125 58.59375 39.234375 62.25 \nQ 35.15625 65.921875 28.609375 65.921875 \nQ 23.96875 65.921875 18.8125 64.3125 \nQ 13.671875 62.703125 7.8125 59.421875 \nL 7.8125 69.390625 \nQ 13.765625 71.78125 18.9375 73 \nQ 24.125 74.21875 28.421875 74.21875 \nQ 39.75 74.21875 46.484375 68.546875 \nQ 53.21875 62.890625 53.21875 53.421875 \nQ 53.21875 48.921875 51.53125 44.890625 \nQ 49.859375 40.875 45.40625 35.40625 \nQ 44.1875 33.984375 37.640625 27.21875 \nQ 31.109375 20.453125 19.1875 8.296875 \nz\n\" id=\"DejaVuSans-50\"/>\n       </defs>\n       <use xlink:href=\"#DejaVuSans-50\"/>\n       <use x=\"63.623047\" xlink:href=\"#DejaVuSans-48\"/>\n      </g>\n     </g>\n    </g>\n    <g id=\"xtick_4\">\n     <g id=\"line2d_4\">\n      <g>\n       <use style=\"stroke:#000000;stroke-width:0.8;\" x=\"247.980114\" xlink:href=\"#m2124f0987b\" y=\"224.64\"/>\n      </g>\n     </g>\n     <g id=\"text_4\">\n      <!-- 30 -->\n      <g transform=\"translate(241.617614 239.238438)scale(0.1 -0.1)\">\n       <defs>\n        <path d=\"M 40.578125 39.3125 \nQ 47.65625 37.796875 51.625 33 \nQ 55.609375 28.21875 55.609375 21.1875 \nQ 55.609375 10.40625 48.1875 4.484375 \nQ 40.765625 -1.421875 27.09375 -1.421875 \nQ 22.515625 -1.421875 17.65625 -0.515625 \nQ 12.796875 0.390625 7.625 2.203125 \nL 7.625 11.71875 \nQ 11.71875 9.328125 16.59375 8.109375 \nQ 21.484375 6.890625 26.8125 6.890625 \nQ 36.078125 6.890625 40.9375 10.546875 \nQ 45.796875 14.203125 45.796875 21.1875 \nQ 45.796875 27.640625 41.28125 31.265625 \nQ 36.765625 34.90625 28.71875 34.90625 \nL 20.21875 34.90625 \nL 20.21875 43.015625 \nL 29.109375 43.015625 \nQ 36.375 43.015625 40.234375 45.921875 \nQ 44.09375 48.828125 44.09375 54.296875 \nQ 44.09375 59.90625 40.109375 62.90625 \nQ 36.140625 65.921875 28.71875 65.921875 \nQ 24.65625 65.921875 20.015625 65.03125 \nQ 15.375 64.15625 9.8125 62.3125 \nL 9.8125 71.09375 \nQ 15.4375 72.65625 20.34375 73.4375 \nQ 25.25 74.21875 29.59375 74.21875 \nQ 40.828125 74.21875 47.359375 69.109375 \nQ 53.90625 64.015625 53.90625 55.328125 \nQ 53.90625 49.265625 50.4375 45.09375 \nQ 46.96875 40.921875 40.578125 39.3125 \nz\n\" id=\"DejaVuSans-51\"/>\n       </defs>\n       <use xlink:href=\"#DejaVuSans-51\"/>\n       <use x=\"63.623047\" xlink:href=\"#DejaVuSans-48\"/>\n      </g>\n     </g>\n    </g>\n    <g id=\"xtick_5\">\n     <g id=\"line2d_5\">\n      <g>\n       <use style=\"stroke:#000000;stroke-width:0.8;\" x=\"308.852841\" xlink:href=\"#m2124f0987b\" y=\"224.64\"/>\n      </g>\n     </g>\n     <g id=\"text_5\">\n      <!-- 40 -->\n      <g transform=\"translate(302.490341 239.238438)scale(0.1 -0.1)\">\n       <defs>\n        <path d=\"M 37.796875 64.3125 \nL 12.890625 25.390625 \nL 37.796875 25.390625 \nz\nM 35.203125 72.90625 \nL 47.609375 72.90625 \nL 47.609375 25.390625 \nL 58.015625 25.390625 \nL 58.015625 17.1875 \nL 47.609375 17.1875 \nL 47.609375 0 \nL 37.796875 0 \nL 37.796875 17.1875 \nL 4.890625 17.1875 \nL 4.890625 26.703125 \nz\n\" id=\"DejaVuSans-52\"/>\n       </defs>\n       <use xlink:href=\"#DejaVuSans-52\"/>\n       <use x=\"63.623047\" xlink:href=\"#DejaVuSans-48\"/>\n      </g>\n     </g>\n    </g>\n    <g id=\"xtick_6\">\n     <g id=\"line2d_6\">\n      <g>\n       <use style=\"stroke:#000000;stroke-width:0.8;\" x=\"369.725568\" xlink:href=\"#m2124f0987b\" y=\"224.64\"/>\n      </g>\n     </g>\n     <g id=\"text_6\">\n      <!-- 50 -->\n      <g transform=\"translate(363.363068 239.238438)scale(0.1 -0.1)\">\n       <defs>\n        <path d=\"M 10.796875 72.90625 \nL 49.515625 72.90625 \nL 49.515625 64.59375 \nL 19.828125 64.59375 \nL 19.828125 46.734375 \nQ 21.96875 47.46875 24.109375 47.828125 \nQ 26.265625 48.1875 28.421875 48.1875 \nQ 40.625 48.1875 47.75 41.5 \nQ 54.890625 34.8125 54.890625 23.390625 \nQ 54.890625 11.625 47.5625 5.09375 \nQ 40.234375 -1.421875 26.90625 -1.421875 \nQ 22.3125 -1.421875 17.546875 -0.640625 \nQ 12.796875 0.140625 7.71875 1.703125 \nL 7.71875 11.625 \nQ 12.109375 9.234375 16.796875 8.0625 \nQ 21.484375 6.890625 26.703125 6.890625 \nQ 35.15625 6.890625 40.078125 11.328125 \nQ 45.015625 15.765625 45.015625 23.390625 \nQ 45.015625 31 40.078125 35.4375 \nQ 35.15625 39.890625 26.703125 39.890625 \nQ 22.75 39.890625 18.8125 39.015625 \nQ 14.890625 38.140625 10.796875 36.28125 \nz\n\" id=\"DejaVuSans-53\"/>\n       </defs>\n       <use xlink:href=\"#DejaVuSans-53\"/>\n       <use x=\"63.623047\" xlink:href=\"#DejaVuSans-48\"/>\n      </g>\n     </g>\n    </g>\n    <g id=\"text_7\">\n     <!-- Steps -->\n     <g transform=\"translate(203.553906 252.916563)scale(0.1 -0.1)\">\n      <defs>\n       <path d=\"M 53.515625 70.515625 \nL 53.515625 60.890625 \nQ 47.90625 63.578125 42.921875 64.890625 \nQ 37.9375 66.21875 33.296875 66.21875 \nQ 25.25 66.21875 20.875 63.09375 \nQ 16.5 59.96875 16.5 54.203125 \nQ 16.5 49.359375 19.40625 46.890625 \nQ 22.3125 44.4375 30.421875 42.921875 \nL 36.375 41.703125 \nQ 47.40625 39.59375 52.65625 34.296875 \nQ 57.90625 29 57.90625 20.125 \nQ 57.90625 9.515625 50.796875 4.046875 \nQ 43.703125 -1.421875 29.984375 -1.421875 \nQ 24.8125 -1.421875 18.96875 -0.25 \nQ 13.140625 0.921875 6.890625 3.21875 \nL 6.890625 13.375 \nQ 12.890625 10.015625 18.65625 8.296875 \nQ 24.421875 6.59375 29.984375 6.59375 \nQ 38.421875 6.59375 43.015625 9.90625 \nQ 47.609375 13.234375 47.609375 19.390625 \nQ 47.609375 24.75 44.3125 27.78125 \nQ 41.015625 30.8125 33.5 32.328125 \nL 27.484375 33.5 \nQ 16.453125 35.6875 11.515625 40.375 \nQ 6.59375 45.0625 6.59375 53.421875 \nQ 6.59375 63.09375 13.40625 68.65625 \nQ 20.21875 74.21875 32.171875 74.21875 \nQ 37.3125 74.21875 42.625 73.28125 \nQ 47.953125 72.359375 53.515625 70.515625 \nz\n\" id=\"DejaVuSans-83\"/>\n       <path d=\"M 18.3125 70.21875 \nL 18.3125 54.6875 \nL 36.8125 54.6875 \nL 36.8125 47.703125 \nL 18.3125 47.703125 \nL 18.3125 18.015625 \nQ 18.3125 11.328125 20.140625 9.421875 \nQ 21.96875 7.515625 27.59375 7.515625 \nL 36.8125 7.515625 \nL 36.8125 0 \nL 27.59375 0 \nQ 17.1875 0 13.234375 3.875 \nQ 9.28125 7.765625 9.28125 18.015625 \nL 9.28125 47.703125 \nL 2.6875 47.703125 \nL 2.6875 54.6875 \nL 9.28125 54.6875 \nL 9.28125 70.21875 \nz\n\" id=\"DejaVuSans-116\"/>\n       <path d=\"M 56.203125 29.59375 \nL 56.203125 25.203125 \nL 14.890625 25.203125 \nQ 15.484375 15.921875 20.484375 11.0625 \nQ 25.484375 6.203125 34.421875 6.203125 \nQ 39.59375 6.203125 44.453125 7.46875 \nQ 49.3125 8.734375 54.109375 11.28125 \nL 54.109375 2.78125 \nQ 49.265625 0.734375 44.1875 -0.34375 \nQ 39.109375 -1.421875 33.890625 -1.421875 \nQ 20.796875 -1.421875 13.15625 6.1875 \nQ 5.515625 13.8125 5.515625 26.8125 \nQ 5.515625 40.234375 12.765625 48.109375 \nQ 20.015625 56 32.328125 56 \nQ 43.359375 56 49.78125 48.890625 \nQ 56.203125 41.796875 56.203125 29.59375 \nz\nM 47.21875 32.234375 \nQ 47.125 39.59375 43.09375 43.984375 \nQ 39.0625 48.390625 32.421875 48.390625 \nQ 24.90625 48.390625 20.390625 44.140625 \nQ 15.875 39.890625 15.1875 32.171875 \nz\n\" id=\"DejaVuSans-101\"/>\n       <path d=\"M 18.109375 8.203125 \nL 18.109375 -20.796875 \nL 9.078125 -20.796875 \nL 9.078125 54.6875 \nL 18.109375 54.6875 \nL 18.109375 46.390625 \nQ 20.953125 51.265625 25.265625 53.625 \nQ 29.59375 56 35.59375 56 \nQ 45.5625 56 51.78125 48.09375 \nQ 58.015625 40.1875 58.015625 27.296875 \nQ 58.015625 14.40625 51.78125 6.484375 \nQ 45.5625 -1.421875 35.59375 -1.421875 \nQ 29.59375 -1.421875 25.265625 0.953125 \nQ 20.953125 3.328125 18.109375 8.203125 \nz\nM 48.6875 27.296875 \nQ 48.6875 37.203125 44.609375 42.84375 \nQ 40.53125 48.484375 33.40625 48.484375 \nQ 26.265625 48.484375 22.1875 42.84375 \nQ 18.109375 37.203125 18.109375 27.296875 \nQ 18.109375 17.390625 22.1875 11.75 \nQ 26.265625 6.109375 33.40625 6.109375 \nQ 40.53125 6.109375 44.609375 11.75 \nQ 48.6875 17.390625 48.6875 27.296875 \nz\n\" id=\"DejaVuSans-112\"/>\n       <path d=\"M 44.28125 53.078125 \nL 44.28125 44.578125 \nQ 40.484375 46.53125 36.375 47.5 \nQ 32.28125 48.484375 27.875 48.484375 \nQ 21.1875 48.484375 17.84375 46.4375 \nQ 14.5 44.390625 14.5 40.28125 \nQ 14.5 37.15625 16.890625 35.375 \nQ 19.28125 33.59375 26.515625 31.984375 \nL 29.59375 31.296875 \nQ 39.15625 29.25 43.1875 25.515625 \nQ 47.21875 21.78125 47.21875 15.09375 \nQ 47.21875 7.46875 41.1875 3.015625 \nQ 35.15625 -1.421875 24.609375 -1.421875 \nQ 20.21875 -1.421875 15.453125 -0.5625 \nQ 10.6875 0.296875 5.421875 2 \nL 5.421875 11.28125 \nQ 10.40625 8.6875 15.234375 7.390625 \nQ 20.0625 6.109375 24.8125 6.109375 \nQ 31.15625 6.109375 34.5625 8.28125 \nQ 37.984375 10.453125 37.984375 14.40625 \nQ 37.984375 18.0625 35.515625 20.015625 \nQ 33.0625 21.96875 24.703125 23.78125 \nL 21.578125 24.515625 \nQ 13.234375 26.265625 9.515625 29.90625 \nQ 5.8125 33.546875 5.8125 39.890625 \nQ 5.8125 47.609375 11.28125 51.796875 \nQ 16.75 56 26.8125 56 \nQ 31.78125 56 36.171875 55.265625 \nQ 40.578125 54.546875 44.28125 53.078125 \nz\n\" id=\"DejaVuSans-115\"/>\n      </defs>\n      <use xlink:href=\"#DejaVuSans-83\"/>\n      <use x=\"63.476562\" xlink:href=\"#DejaVuSans-116\"/>\n      <use x=\"102.685547\" xlink:href=\"#DejaVuSans-101\"/>\n      <use x=\"164.208984\" xlink:href=\"#DejaVuSans-112\"/>\n      <use x=\"227.685547\" xlink:href=\"#DejaVuSans-115\"/>\n     </g>\n    </g>\n   </g>\n   <g id=\"matplotlib.axis_2\">\n    <g id=\"ytick_1\">\n     <g id=\"line2d_7\">\n      <defs>\n       <path d=\"M 0 0 \nL -3.5 0 \n\" id=\"m8d4ef6bb46\" style=\"stroke:#000000;stroke-width:0.8;\"/>\n      </defs>\n      <g>\n       <use style=\"stroke:#000000;stroke-width:0.8;\" x=\"50.14375\" xlink:href=\"#m8d4ef6bb46\" y=\"200.179958\"/>\n      </g>\n     </g>\n     <g id=\"text_8\">\n      <!-- 0.50 -->\n      <g transform=\"translate(20.878125 203.979177)scale(0.1 -0.1)\">\n       <defs>\n        <path d=\"M 10.6875 12.40625 \nL 21 12.40625 \nL 21 0 \nL 10.6875 0 \nz\n\" id=\"DejaVuSans-46\"/>\n       </defs>\n       <use xlink:href=\"#DejaVuSans-48\"/>\n       <use x=\"63.623047\" xlink:href=\"#DejaVuSans-46\"/>\n       <use x=\"95.410156\" xlink:href=\"#DejaVuSans-53\"/>\n       <use x=\"159.033203\" xlink:href=\"#DejaVuSans-48\"/>\n      </g>\n     </g>\n    </g>\n    <g id=\"ytick_2\">\n     <g id=\"line2d_8\">\n      <g>\n       <use style=\"stroke:#000000;stroke-width:0.8;\" x=\"50.14375\" xlink:href=\"#m8d4ef6bb46\" y=\"174.103198\"/>\n      </g>\n     </g>\n     <g id=\"text_9\">\n      <!-- 0.55 -->\n      <g transform=\"translate(20.878125 177.902416)scale(0.1 -0.1)\">\n       <use xlink:href=\"#DejaVuSans-48\"/>\n       <use x=\"63.623047\" xlink:href=\"#DejaVuSans-46\"/>\n       <use x=\"95.410156\" xlink:href=\"#DejaVuSans-53\"/>\n       <use x=\"159.033203\" xlink:href=\"#DejaVuSans-53\"/>\n      </g>\n     </g>\n    </g>\n    <g id=\"ytick_3\">\n     <g id=\"line2d_9\">\n      <g>\n       <use style=\"stroke:#000000;stroke-width:0.8;\" x=\"50.14375\" xlink:href=\"#m8d4ef6bb46\" y=\"148.026437\"/>\n      </g>\n     </g>\n     <g id=\"text_10\">\n      <!-- 0.60 -->\n      <g transform=\"translate(20.878125 151.825656)scale(0.1 -0.1)\">\n       <defs>\n        <path d=\"M 33.015625 40.375 \nQ 26.375 40.375 22.484375 35.828125 \nQ 18.609375 31.296875 18.609375 23.390625 \nQ 18.609375 15.53125 22.484375 10.953125 \nQ 26.375 6.390625 33.015625 6.390625 \nQ 39.65625 6.390625 43.53125 10.953125 \nQ 47.40625 15.53125 47.40625 23.390625 \nQ 47.40625 31.296875 43.53125 35.828125 \nQ 39.65625 40.375 33.015625 40.375 \nz\nM 52.59375 71.296875 \nL 52.59375 62.3125 \nQ 48.875 64.0625 45.09375 64.984375 \nQ 41.3125 65.921875 37.59375 65.921875 \nQ 27.828125 65.921875 22.671875 59.328125 \nQ 17.53125 52.734375 16.796875 39.40625 \nQ 19.671875 43.65625 24.015625 45.921875 \nQ 28.375 48.1875 33.59375 48.1875 \nQ 44.578125 48.1875 50.953125 41.515625 \nQ 57.328125 34.859375 57.328125 23.390625 \nQ 57.328125 12.15625 50.6875 5.359375 \nQ 44.046875 -1.421875 33.015625 -1.421875 \nQ 20.359375 -1.421875 13.671875 8.265625 \nQ 6.984375 17.96875 6.984375 36.375 \nQ 6.984375 53.65625 15.1875 63.9375 \nQ 23.390625 74.21875 37.203125 74.21875 \nQ 40.921875 74.21875 44.703125 73.484375 \nQ 48.484375 72.75 52.59375 71.296875 \nz\n\" id=\"DejaVuSans-54\"/>\n       </defs>\n       <use xlink:href=\"#DejaVuSans-48\"/>\n       <use x=\"63.623047\" xlink:href=\"#DejaVuSans-46\"/>\n       <use x=\"95.410156\" xlink:href=\"#DejaVuSans-54\"/>\n       <use x=\"159.033203\" xlink:href=\"#DejaVuSans-48\"/>\n      </g>\n     </g>\n    </g>\n    <g id=\"ytick_4\">\n     <g id=\"line2d_10\">\n      <g>\n       <use style=\"stroke:#000000;stroke-width:0.8;\" x=\"50.14375\" xlink:href=\"#m8d4ef6bb46\" y=\"121.949677\"/>\n      </g>\n     </g>\n     <g id=\"text_11\">\n      <!-- 0.65 -->\n      <g transform=\"translate(20.878125 125.748896)scale(0.1 -0.1)\">\n       <use xlink:href=\"#DejaVuSans-48\"/>\n       <use x=\"63.623047\" xlink:href=\"#DejaVuSans-46\"/>\n       <use x=\"95.410156\" xlink:href=\"#DejaVuSans-54\"/>\n       <use x=\"159.033203\" xlink:href=\"#DejaVuSans-53\"/>\n      </g>\n     </g>\n    </g>\n    <g id=\"ytick_5\">\n     <g id=\"line2d_11\">\n      <g>\n       <use style=\"stroke:#000000;stroke-width:0.8;\" x=\"50.14375\" xlink:href=\"#m8d4ef6bb46\" y=\"95.872917\"/>\n      </g>\n     </g>\n     <g id=\"text_12\">\n      <!-- 0.70 -->\n      <g transform=\"translate(20.878125 99.672135)scale(0.1 -0.1)\">\n       <defs>\n        <path d=\"M 8.203125 72.90625 \nL 55.078125 72.90625 \nL 55.078125 68.703125 \nL 28.609375 0 \nL 18.3125 0 \nL 43.21875 64.59375 \nL 8.203125 64.59375 \nz\n\" id=\"DejaVuSans-55\"/>\n       </defs>\n       <use xlink:href=\"#DejaVuSans-48\"/>\n       <use x=\"63.623047\" xlink:href=\"#DejaVuSans-46\"/>\n       <use x=\"95.410156\" xlink:href=\"#DejaVuSans-55\"/>\n       <use x=\"159.033203\" xlink:href=\"#DejaVuSans-48\"/>\n      </g>\n     </g>\n    </g>\n    <g id=\"ytick_6\">\n     <g id=\"line2d_12\">\n      <g>\n       <use style=\"stroke:#000000;stroke-width:0.8;\" x=\"50.14375\" xlink:href=\"#m8d4ef6bb46\" y=\"69.796156\"/>\n      </g>\n     </g>\n     <g id=\"text_13\">\n      <!-- 0.75 -->\n      <g transform=\"translate(20.878125 73.595375)scale(0.1 -0.1)\">\n       <use xlink:href=\"#DejaVuSans-48\"/>\n       <use x=\"63.623047\" xlink:href=\"#DejaVuSans-46\"/>\n       <use x=\"95.410156\" xlink:href=\"#DejaVuSans-55\"/>\n       <use x=\"159.033203\" xlink:href=\"#DejaVuSans-53\"/>\n      </g>\n     </g>\n    </g>\n    <g id=\"ytick_7\">\n     <g id=\"line2d_13\">\n      <g>\n       <use style=\"stroke:#000000;stroke-width:0.8;\" x=\"50.14375\" xlink:href=\"#m8d4ef6bb46\" y=\"43.719396\"/>\n      </g>\n     </g>\n     <g id=\"text_14\">\n      <!-- 0.80 -->\n      <g transform=\"translate(20.878125 47.518615)scale(0.1 -0.1)\">\n       <defs>\n        <path d=\"M 31.78125 34.625 \nQ 24.75 34.625 20.71875 30.859375 \nQ 16.703125 27.09375 16.703125 20.515625 \nQ 16.703125 13.921875 20.71875 10.15625 \nQ 24.75 6.390625 31.78125 6.390625 \nQ 38.8125 6.390625 42.859375 10.171875 \nQ 46.921875 13.96875 46.921875 20.515625 \nQ 46.921875 27.09375 42.890625 30.859375 \nQ 38.875 34.625 31.78125 34.625 \nz\nM 21.921875 38.8125 \nQ 15.578125 40.375 12.03125 44.71875 \nQ 8.5 49.078125 8.5 55.328125 \nQ 8.5 64.0625 14.71875 69.140625 \nQ 20.953125 74.21875 31.78125 74.21875 \nQ 42.671875 74.21875 48.875 69.140625 \nQ 55.078125 64.0625 55.078125 55.328125 \nQ 55.078125 49.078125 51.53125 44.71875 \nQ 48 40.375 41.703125 38.8125 \nQ 48.828125 37.15625 52.796875 32.3125 \nQ 56.78125 27.484375 56.78125 20.515625 \nQ 56.78125 9.90625 50.3125 4.234375 \nQ 43.84375 -1.421875 31.78125 -1.421875 \nQ 19.734375 -1.421875 13.25 4.234375 \nQ 6.78125 9.90625 6.78125 20.515625 \nQ 6.78125 27.484375 10.78125 32.3125 \nQ 14.796875 37.15625 21.921875 38.8125 \nz\nM 18.3125 54.390625 \nQ 18.3125 48.734375 21.84375 45.5625 \nQ 25.390625 42.390625 31.78125 42.390625 \nQ 38.140625 42.390625 41.71875 45.5625 \nQ 45.3125 48.734375 45.3125 54.390625 \nQ 45.3125 60.0625 41.71875 63.234375 \nQ 38.140625 66.40625 31.78125 66.40625 \nQ 25.390625 66.40625 21.84375 63.234375 \nQ 18.3125 60.0625 18.3125 54.390625 \nz\n\" id=\"DejaVuSans-56\"/>\n       </defs>\n       <use xlink:href=\"#DejaVuSans-48\"/>\n       <use x=\"63.623047\" xlink:href=\"#DejaVuSans-46\"/>\n       <use x=\"95.410156\" xlink:href=\"#DejaVuSans-56\"/>\n       <use x=\"159.033203\" xlink:href=\"#DejaVuSans-48\"/>\n      </g>\n     </g>\n    </g>\n    <g id=\"ytick_8\">\n     <g id=\"line2d_14\">\n      <g>\n       <use style=\"stroke:#000000;stroke-width:0.8;\" x=\"50.14375\" xlink:href=\"#m8d4ef6bb46\" y=\"17.642636\"/>\n      </g>\n     </g>\n     <g id=\"text_15\">\n      <!-- 0.85 -->\n      <g transform=\"translate(20.878125 21.441855)scale(0.1 -0.1)\">\n       <use xlink:href=\"#DejaVuSans-48\"/>\n       <use x=\"63.623047\" xlink:href=\"#DejaVuSans-46\"/>\n       <use x=\"95.410156\" xlink:href=\"#DejaVuSans-56\"/>\n       <use x=\"159.033203\" xlink:href=\"#DejaVuSans-53\"/>\n      </g>\n     </g>\n    </g>\n    <g id=\"text_16\">\n     <!-- NLL -->\n     <g transform=\"translate(14.798438 125.2325)rotate(-90)scale(0.1 -0.1)\">\n      <defs>\n       <path d=\"M 9.8125 72.90625 \nL 23.09375 72.90625 \nL 55.421875 11.921875 \nL 55.421875 72.90625 \nL 64.984375 72.90625 \nL 64.984375 0 \nL 51.703125 0 \nL 19.390625 60.984375 \nL 19.390625 0 \nL 9.8125 0 \nz\n\" id=\"DejaVuSans-78\"/>\n       <path d=\"M 9.8125 72.90625 \nL 19.671875 72.90625 \nL 19.671875 8.296875 \nL 55.171875 8.296875 \nL 55.171875 0 \nL 9.8125 0 \nz\n\" id=\"DejaVuSans-76\"/>\n      </defs>\n      <use xlink:href=\"#DejaVuSans-78\"/>\n      <use x=\"74.804688\" xlink:href=\"#DejaVuSans-76\"/>\n      <use x=\"130.517578\" xlink:href=\"#DejaVuSans-76\"/>\n     </g>\n    </g>\n   </g>\n   <g id=\"line2d_15\">\n    <path clip-path=\"url(#pb1582549b1)\" d=\"M 65.361932 108.469404 \nL 71.449205 109.072627 \nL 77.536477 124.56759 \nL 83.62375 80.733707 \nL 89.711023 54.764746 \nL 95.798295 119.783933 \nL 101.885568 145.464261 \nL 107.972841 102.786743 \nL 114.060114 75.876252 \nL 120.147386 110.112171 \nL 126.234659 142.057773 \nL 132.321932 131.791088 \nL 138.409205 214.756364 \nL 144.496477 111.438545 \nL 150.58375 97.564961 \nL 156.671023 95.966554 \nL 162.758295 141.204433 \nL 168.845568 124.917027 \nL 174.932841 151.321346 \nL 181.020114 119.862736 \nL 187.107386 128.377014 \nL 193.194659 73.374208 \nL 199.281932 120.405341 \nL 205.369205 103.944538 \nL 211.456477 90.944126 \nL 217.54375 123.182868 \nL 223.631023 131.628757 \nL 229.718295 31.139913 \nL 235.805568 103.308395 \nL 241.892841 103.674681 \nL 247.980114 157.408777 \nL 254.067386 97.609507 \nL 260.154659 148.157141 \nL 266.241932 155.621865 \nL 272.329205 36.901159 \nL 278.416477 112.103846 \nL 284.50375 108.963142 \nL 290.591023 51.577413 \nL 296.678295 139.148908 \nL 302.765568 121.344291 \nL 308.852841 17.083636 \nL 314.940114 161.257277 \nL 321.027386 56.450318 \nL 327.114659 41.519533 \nL 333.201932 96.132988 \nL 339.289205 36.10536 \nL 345.376477 87.080363 \nL 351.46375 19.43883 \nL 357.551023 199.071496 \nL 363.638295 94.903975 \nL 369.725568 123.428105 \n\" style=\"fill:none;stroke:#ff0000;stroke-linecap:square;stroke-width:1.5;\"/>\n   </g>\n   <g id=\"line2d_16\">\n    <path clip-path=\"url(#pb1582549b1)\" d=\"M 65.361932 111.135613 \nL 71.449205 109.856738 \nL 77.536477 112.757583 \nL 83.62375 105.055611 \nL 89.711023 109.70507 \nL 95.798295 109.081144 \nL 101.885568 104.523668 \nL 107.972841 98.587283 \nL 114.060114 98.142568 \nL 120.147386 112.911396 \nL 126.234659 113.632807 \nL 132.321932 110.370029 \nL 138.409205 77.431947 \nL 144.496477 95.675465 \nL 150.58375 110.822422 \nL 156.671023 73.675182 \nL 162.758295 111.415262 \nL 168.845568 101.341061 \nL 174.932841 100.609889 \nL 181.020114 108.127521 \nL 187.107386 103.705114 \nL 193.194659 114.35972 \nL 199.281932 111.93449 \nL 205.369205 107.4851 \nL 211.456477 112.943663 \nL 217.54375 111.028584 \nL 223.631023 101.083887 \nL 229.718295 107.409001 \nL 235.805568 112.710208 \nL 241.892841 113.653137 \nL 247.980114 105.919924 \nL 254.067386 114.585404 \nL 260.154659 110.676629 \nL 266.241932 94.713449 \nL 272.329205 103.873631 \nL 278.416477 98.202875 \nL 284.50375 109.147326 \nL 290.591023 107.27614 \nL 296.678295 109.74974 \nL 302.765568 114.570762 \nL 308.852841 85.744695 \nL 314.940114 99.116459 \nL 321.027386 94.453975 \nL 327.114659 94.690228 \nL 333.201932 110.973468 \nL 339.289205 109.204213 \nL 345.376477 78.625863 \nL 351.46375 112.282745 \nL 357.551023 87.2214 \nL 363.638295 105.404737 \nL 369.725568 108.86976 \n\" style=\"fill:none;stroke:#0000ff;stroke-linecap:square;stroke-width:1.5;\"/>\n   </g>\n   <g id=\"patch_3\">\n    <path d=\"M 50.14375 224.64 \nL 50.14375 7.2 \n\" style=\"fill:none;stroke:#000000;stroke-linecap:square;stroke-linejoin:miter;stroke-width:0.8;\"/>\n   </g>\n   <g id=\"patch_4\">\n    <path d=\"M 384.94375 224.64 \nL 384.94375 7.2 \n\" style=\"fill:none;stroke:#000000;stroke-linecap:square;stroke-linejoin:miter;stroke-width:0.8;\"/>\n   </g>\n   <g id=\"patch_5\">\n    <path d=\"M 50.14375 224.64 \nL 384.94375 224.64 \n\" style=\"fill:none;stroke:#000000;stroke-linecap:square;stroke-linejoin:miter;stroke-width:0.8;\"/>\n   </g>\n   <g id=\"patch_6\">\n    <path d=\"M 50.14375 7.2 \nL 384.94375 7.2 \n\" style=\"fill:none;stroke:#000000;stroke-linecap:square;stroke-linejoin:miter;stroke-width:0.8;\"/>\n   </g>\n   <g id=\"legend_1\">\n    <g id=\"patch_7\">\n     <path d=\"M 57.14375 44.55625 \nL 163.6375 44.55625 \nQ 165.6375 44.55625 165.6375 42.55625 \nL 165.6375 14.2 \nQ 165.6375 12.2 163.6375 12.2 \nL 57.14375 12.2 \nQ 55.14375 12.2 55.14375 14.2 \nL 55.14375 42.55625 \nQ 55.14375 44.55625 57.14375 44.55625 \nz\n\" style=\"fill:#ffffff;opacity:0.8;stroke:#cccccc;stroke-linejoin:miter;\"/>\n    </g>\n    <g id=\"line2d_17\">\n     <path d=\"M 59.14375 20.298438 \nL 79.14375 20.298438 \n\" style=\"fill:none;stroke:#ff0000;stroke-linecap:square;stroke-width:1.5;\"/>\n    </g>\n    <g id=\"line2d_18\"/>\n    <g id=\"text_17\">\n     <!-- Training Loss -->\n     <g transform=\"translate(87.14375 23.798438)scale(0.1 -0.1)\">\n      <defs>\n       <path d=\"M -0.296875 72.90625 \nL 61.375 72.90625 \nL 61.375 64.59375 \nL 35.5 64.59375 \nL 35.5 0 \nL 25.59375 0 \nL 25.59375 64.59375 \nL -0.296875 64.59375 \nz\n\" id=\"DejaVuSans-84\"/>\n       <path d=\"M 41.109375 46.296875 \nQ 39.59375 47.171875 37.8125 47.578125 \nQ 36.03125 48 33.890625 48 \nQ 26.265625 48 22.1875 43.046875 \nQ 18.109375 38.09375 18.109375 28.8125 \nL 18.109375 0 \nL 9.078125 0 \nL 9.078125 54.6875 \nL 18.109375 54.6875 \nL 18.109375 46.1875 \nQ 20.953125 51.171875 25.484375 53.578125 \nQ 30.03125 56 36.53125 56 \nQ 37.453125 56 38.578125 55.875 \nQ 39.703125 55.765625 41.0625 55.515625 \nz\n\" id=\"DejaVuSans-114\"/>\n       <path d=\"M 34.28125 27.484375 \nQ 23.390625 27.484375 19.1875 25 \nQ 14.984375 22.515625 14.984375 16.5 \nQ 14.984375 11.71875 18.140625 8.90625 \nQ 21.296875 6.109375 26.703125 6.109375 \nQ 34.1875 6.109375 38.703125 11.40625 \nQ 43.21875 16.703125 43.21875 25.484375 \nL 43.21875 27.484375 \nz\nM 52.203125 31.203125 \nL 52.203125 0 \nL 43.21875 0 \nL 43.21875 8.296875 \nQ 40.140625 3.328125 35.546875 0.953125 \nQ 30.953125 -1.421875 24.3125 -1.421875 \nQ 15.921875 -1.421875 10.953125 3.296875 \nQ 6 8.015625 6 15.921875 \nQ 6 25.140625 12.171875 29.828125 \nQ 18.359375 34.515625 30.609375 34.515625 \nL 43.21875 34.515625 \nL 43.21875 35.40625 \nQ 43.21875 41.609375 39.140625 45 \nQ 35.0625 48.390625 27.6875 48.390625 \nQ 23 48.390625 18.546875 47.265625 \nQ 14.109375 46.140625 10.015625 43.890625 \nL 10.015625 52.203125 \nQ 14.9375 54.109375 19.578125 55.046875 \nQ 24.21875 56 28.609375 56 \nQ 40.484375 56 46.34375 49.84375 \nQ 52.203125 43.703125 52.203125 31.203125 \nz\n\" id=\"DejaVuSans-97\"/>\n       <path d=\"M 9.421875 54.6875 \nL 18.40625 54.6875 \nL 18.40625 0 \nL 9.421875 0 \nz\nM 9.421875 75.984375 \nL 18.40625 75.984375 \nL 18.40625 64.59375 \nL 9.421875 64.59375 \nz\n\" id=\"DejaVuSans-105\"/>\n       <path d=\"M 54.890625 33.015625 \nL 54.890625 0 \nL 45.90625 0 \nL 45.90625 32.71875 \nQ 45.90625 40.484375 42.875 44.328125 \nQ 39.84375 48.1875 33.796875 48.1875 \nQ 26.515625 48.1875 22.3125 43.546875 \nQ 18.109375 38.921875 18.109375 30.90625 \nL 18.109375 0 \nL 9.078125 0 \nL 9.078125 54.6875 \nL 18.109375 54.6875 \nL 18.109375 46.1875 \nQ 21.34375 51.125 25.703125 53.5625 \nQ 30.078125 56 35.796875 56 \nQ 45.21875 56 50.046875 50.171875 \nQ 54.890625 44.34375 54.890625 33.015625 \nz\n\" id=\"DejaVuSans-110\"/>\n       <path d=\"M 45.40625 27.984375 \nQ 45.40625 37.75 41.375 43.109375 \nQ 37.359375 48.484375 30.078125 48.484375 \nQ 22.859375 48.484375 18.828125 43.109375 \nQ 14.796875 37.75 14.796875 27.984375 \nQ 14.796875 18.265625 18.828125 12.890625 \nQ 22.859375 7.515625 30.078125 7.515625 \nQ 37.359375 7.515625 41.375 12.890625 \nQ 45.40625 18.265625 45.40625 27.984375 \nz\nM 54.390625 6.78125 \nQ 54.390625 -7.171875 48.1875 -13.984375 \nQ 42 -20.796875 29.203125 -20.796875 \nQ 24.46875 -20.796875 20.265625 -20.09375 \nQ 16.0625 -19.390625 12.109375 -17.921875 \nL 12.109375 -9.1875 \nQ 16.0625 -11.328125 19.921875 -12.34375 \nQ 23.78125 -13.375 27.78125 -13.375 \nQ 36.625 -13.375 41.015625 -8.765625 \nQ 45.40625 -4.15625 45.40625 5.171875 \nL 45.40625 9.625 \nQ 42.625 4.78125 38.28125 2.390625 \nQ 33.9375 0 27.875 0 \nQ 17.828125 0 11.671875 7.65625 \nQ 5.515625 15.328125 5.515625 27.984375 \nQ 5.515625 40.671875 11.671875 48.328125 \nQ 17.828125 56 27.875 56 \nQ 33.9375 56 38.28125 53.609375 \nQ 42.625 51.21875 45.40625 46.390625 \nL 45.40625 54.6875 \nL 54.390625 54.6875 \nz\n\" id=\"DejaVuSans-103\"/>\n       <path id=\"DejaVuSans-32\"/>\n       <path d=\"M 30.609375 48.390625 \nQ 23.390625 48.390625 19.1875 42.75 \nQ 14.984375 37.109375 14.984375 27.296875 \nQ 14.984375 17.484375 19.15625 11.84375 \nQ 23.34375 6.203125 30.609375 6.203125 \nQ 37.796875 6.203125 41.984375 11.859375 \nQ 46.1875 17.53125 46.1875 27.296875 \nQ 46.1875 37.015625 41.984375 42.703125 \nQ 37.796875 48.390625 30.609375 48.390625 \nz\nM 30.609375 56 \nQ 42.328125 56 49.015625 48.375 \nQ 55.71875 40.765625 55.71875 27.296875 \nQ 55.71875 13.875 49.015625 6.21875 \nQ 42.328125 -1.421875 30.609375 -1.421875 \nQ 18.84375 -1.421875 12.171875 6.21875 \nQ 5.515625 13.875 5.515625 27.296875 \nQ 5.515625 40.765625 12.171875 48.375 \nQ 18.84375 56 30.609375 56 \nz\n\" id=\"DejaVuSans-111\"/>\n      </defs>\n      <use xlink:href=\"#DejaVuSans-84\"/>\n      <use x=\"46.333984\" xlink:href=\"#DejaVuSans-114\"/>\n      <use x=\"87.447266\" xlink:href=\"#DejaVuSans-97\"/>\n      <use x=\"148.726562\" xlink:href=\"#DejaVuSans-105\"/>\n      <use x=\"176.509766\" xlink:href=\"#DejaVuSans-110\"/>\n      <use x=\"239.888672\" xlink:href=\"#DejaVuSans-105\"/>\n      <use x=\"267.671875\" xlink:href=\"#DejaVuSans-110\"/>\n      <use x=\"331.050781\" xlink:href=\"#DejaVuSans-103\"/>\n      <use x=\"394.527344\" xlink:href=\"#DejaVuSans-32\"/>\n      <use x=\"426.314453\" xlink:href=\"#DejaVuSans-76\"/>\n      <use x=\"480.277344\" xlink:href=\"#DejaVuSans-111\"/>\n      <use x=\"541.458984\" xlink:href=\"#DejaVuSans-115\"/>\n      <use x=\"593.558594\" xlink:href=\"#DejaVuSans-115\"/>\n     </g>\n    </g>\n    <g id=\"line2d_19\">\n     <path d=\"M 59.14375 34.976562 \nL 79.14375 34.976562 \n\" style=\"fill:none;stroke:#0000ff;stroke-linecap:square;stroke-width:1.5;\"/>\n    </g>\n    <g id=\"line2d_20\"/>\n    <g id=\"text_18\">\n     <!-- Validation Loss -->\n     <g transform=\"translate(87.14375 38.476562)scale(0.1 -0.1)\">\n      <defs>\n       <path d=\"M 28.609375 0 \nL 0.78125 72.90625 \nL 11.078125 72.90625 \nL 34.1875 11.53125 \nL 57.328125 72.90625 \nL 67.578125 72.90625 \nL 39.796875 0 \nz\n\" id=\"DejaVuSans-86\"/>\n       <path d=\"M 9.421875 75.984375 \nL 18.40625 75.984375 \nL 18.40625 0 \nL 9.421875 0 \nz\n\" id=\"DejaVuSans-108\"/>\n       <path d=\"M 45.40625 46.390625 \nL 45.40625 75.984375 \nL 54.390625 75.984375 \nL 54.390625 0 \nL 45.40625 0 \nL 45.40625 8.203125 \nQ 42.578125 3.328125 38.25 0.953125 \nQ 33.9375 -1.421875 27.875 -1.421875 \nQ 17.96875 -1.421875 11.734375 6.484375 \nQ 5.515625 14.40625 5.515625 27.296875 \nQ 5.515625 40.1875 11.734375 48.09375 \nQ 17.96875 56 27.875 56 \nQ 33.9375 56 38.25 53.625 \nQ 42.578125 51.265625 45.40625 46.390625 \nz\nM 14.796875 27.296875 \nQ 14.796875 17.390625 18.875 11.75 \nQ 22.953125 6.109375 30.078125 6.109375 \nQ 37.203125 6.109375 41.296875 11.75 \nQ 45.40625 17.390625 45.40625 27.296875 \nQ 45.40625 37.203125 41.296875 42.84375 \nQ 37.203125 48.484375 30.078125 48.484375 \nQ 22.953125 48.484375 18.875 42.84375 \nQ 14.796875 37.203125 14.796875 27.296875 \nz\n\" id=\"DejaVuSans-100\"/>\n      </defs>\n      <use xlink:href=\"#DejaVuSans-86\"/>\n      <use x=\"60.658203\" xlink:href=\"#DejaVuSans-97\"/>\n      <use x=\"121.9375\" xlink:href=\"#DejaVuSans-108\"/>\n      <use x=\"149.720703\" xlink:href=\"#DejaVuSans-105\"/>\n      <use x=\"177.503906\" xlink:href=\"#DejaVuSans-100\"/>\n      <use x=\"240.980469\" xlink:href=\"#DejaVuSans-97\"/>\n      <use x=\"302.259766\" xlink:href=\"#DejaVuSans-116\"/>\n      <use x=\"341.46875\" xlink:href=\"#DejaVuSans-105\"/>\n      <use x=\"369.251953\" xlink:href=\"#DejaVuSans-111\"/>\n      <use x=\"430.433594\" xlink:href=\"#DejaVuSans-110\"/>\n      <use x=\"493.8125\" xlink:href=\"#DejaVuSans-32\"/>\n      <use x=\"525.599609\" xlink:href=\"#DejaVuSans-76\"/>\n      <use x=\"579.5625\" xlink:href=\"#DejaVuSans-111\"/>\n      <use x=\"640.744141\" xlink:href=\"#DejaVuSans-115\"/>\n      <use x=\"692.84375\" xlink:href=\"#DejaVuSans-115\"/>\n     </g>\n    </g>\n   </g>\n  </g>\n </g>\n <defs>\n  <clipPath id=\"pb1582549b1\">\n   <rect height=\"217.44\" width=\"334.8\" x=\"50.14375\" y=\"7.2\"/>\n  </clipPath>\n </defs>\n</svg>\n",
            "image/png": "[encoded data removed]"
          },
          "metadata": {
            "needs_background": "light"
          }
        }
      ]
    },
    {
      "cell_type": "code",
      "execution_count": null,
      "metadata": {},
      "outputs": [],
      "source": []
    }
  ]
}