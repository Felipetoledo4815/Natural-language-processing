{
 "metadata": {
  "language_info": {
   "codemirror_mode": {
    "name": "ipython",
    "version": 3
   },
   "file_extension": ".py",
   "mimetype": "text/x-python",
   "name": "python",
   "nbconvert_exporter": "python",
   "pygments_lexer": "ipython3",
   "version": "3.8.2-final"
  },
  "orig_nbformat": 2,
  "kernelspec": {
   "name": "python3",
   "display_name": "Python 3.8.2 64-bit ('tf': conda)",
   "metadata": {
    "interpreter": {
     "hash": "ae93a6619dcb79123d447f862028aa41578f672459b4f61e0c79f12cf6586441"
    }
   }
  }
 },
 "nbformat": 4,
 "nbformat_minor": 2,
 "cells": [
  {
   "cell_type": "code",
   "execution_count": 115,
   "metadata": {},
   "outputs": [],
   "source": [
    "import numpy as np\n",
    "import pandas as pd\n",
    "import matplotlib.pyplot as plt\n",
    "from sklearn.feature_extraction.text import CountVectorizer\n",
    "from sklearn.linear_model import LogisticRegression\n",
    "from sklearn.metrics import classification_report\n",
    "import time\n",
    "import pickle\n",
    "\n",
    "from warnings import filterwarnings\n",
    "filterwarnings('ignore')"
   ]
  },
  {
   "source": [
    "# (a) Load data"
   ],
   "cell_type": "markdown",
   "metadata": {}
  },
  {
   "cell_type": "code",
   "execution_count": 2,
   "metadata": {},
   "outputs": [],
   "source": [
    "def load_data(fname):\n",
    "    headline, topic = [], []\n",
    "    with open(fname, 'r') as fin:\n",
    "        for line in fin:\n",
    "            items = line.strip().split(\"\\t\")\n",
    "            headline.append(items[1])\n",
    "            topic.append(items[0])\n",
    "    print(\"Reading {} examples from: {}\".format(len(headline), fname))\n",
    "    return headline, topic"
   ]
  },
  {
   "source": [
    "## i."
   ],
   "cell_type": "markdown",
   "metadata": {}
  },
  {
   "cell_type": "code",
   "execution_count": 3,
   "metadata": {},
   "outputs": [
    {
     "output_type": "stream",
     "name": "stdout",
     "text": [
      "Reading 337810 examples from: news/news-trn.tsv\nReading 42155 examples from: news/news-val.tsv\nReading 42454 examples from: news/news-tst.tsv\n"
     ]
    }
   ],
   "source": [
    "# Load data\n",
    "trn_headline, trn_topic = load_data(\"news/news-trn.tsv\")\n",
    "val_headline, val_topic = load_data(\"news/news-val.tsv\")\n",
    "tst_headline, tst_topic = load_data(\"news/news-tst.tsv\")"
   ]
  },
  {
   "source": [
    "## ii."
   ],
   "cell_type": "markdown",
   "metadata": {}
  },
  {
   "cell_type": "code",
   "execution_count": 4,
   "metadata": {},
   "outputs": [],
   "source": [
    "topics = np.unique(trn_topic, return_counts=True)"
   ]
  },
  {
   "cell_type": "code",
   "execution_count": 6,
   "metadata": {},
   "outputs": [
    {
     "output_type": "execute_result",
     "data": {
      "text/plain": [
       "                  # headlines\n",
       "business                92786\n",
       "entertainment          121815\n",
       "health                  36506\n",
       "science_and_tech        86703"
      ],
      "text/html": "<div>\n<style scoped>\n    .dataframe tbody tr th:only-of-type {\n        vertical-align: middle;\n    }\n\n    .dataframe tbody tr th {\n        vertical-align: top;\n    }\n\n    .dataframe thead th {\n        text-align: right;\n    }\n</style>\n<table border=\"1\" class=\"dataframe\">\n  <thead>\n    <tr style=\"text-align: right;\">\n      <th></th>\n      <th># headlines</th>\n    </tr>\n  </thead>\n  <tbody>\n    <tr>\n      <th>business</th>\n      <td>92786</td>\n    </tr>\n    <tr>\n      <th>entertainment</th>\n      <td>121815</td>\n    </tr>\n    <tr>\n      <th>health</th>\n      <td>36506</td>\n    </tr>\n    <tr>\n      <th>science_and_tech</th>\n      <td>86703</td>\n    </tr>\n  </tbody>\n</table>\n</div>"
     },
     "metadata": {},
     "execution_count": 6
    }
   ],
   "source": [
    "pd.DataFrame(topics[1], index=topics[0], columns=['# headlines'])"
   ]
  },
  {
   "source": [
    "# (b) Consuct bag-of-words representations"
   ],
   "cell_type": "markdown",
   "metadata": {}
  },
  {
   "cell_type": "code",
   "execution_count": 50,
   "metadata": {},
   "outputs": [],
   "source": [
    "vectorizer = CountVectorizer()\n",
    "trn_data = vectorizer.fit_transform(trn_headline)\n",
    "val_data = vectorizer.transform(val_headline)\n",
    "tst_data = vectorizer.transform(tst_headline)"
   ]
  },
  {
   "source": [
    "## i."
   ],
   "cell_type": "markdown",
   "metadata": {}
  },
  {
   "cell_type": "code",
   "execution_count": 51,
   "metadata": {},
   "outputs": [
    {
     "output_type": "stream",
     "name": "stdout",
     "text": [
      "Vocab size = 49028\nSize of training data = (337810, 49028)\nSize of val data = (42155, 49028)\nSize of test data = (42454, 49028)\n"
     ]
    }
   ],
   "source": [
    "# Basic information about data\n",
    "vocab = vectorizer.vocabulary_\n",
    "print(\"Vocab size = {}\".format(len(vocab)))\n",
    "print(\"Size of training data = {}\".format(trn_data.shape))\n",
    "print(\"Size of val data = {}\".format(val_data.shape))\n",
    "print(\"Size of test data = {}\".format(tst_data.shape))"
   ]
  },
  {
   "source": [
    "## ii."
   ],
   "cell_type": "markdown",
   "metadata": {}
  },
  {
   "cell_type": "code",
   "execution_count": 52,
   "metadata": {},
   "outputs": [
    {
     "output_type": "display_data",
     "data": {
      "text/plain": "<Figure size 432x288 with 1 Axes>",
      "image/svg+xml": "<?xml version=\"1.0\" encoding=\"utf-8\" standalone=\"no\"?>\n<!DOCTYPE svg PUBLIC \"-//W3C//DTD SVG 1.1//EN\"\n  \"http://www.w3.org/Graphics/SVG/1.1/DTD/svg11.dtd\">\n<!-- Created with matplotlib (https://matplotlib.org/) -->\n<svg height=\"262.19625pt\" version=\"1.1\" viewBox=\"0 0 401.690625 262.19625\" width=\"401.690625pt\" xmlns=\"http://www.w3.org/2000/svg\" xmlns:xlink=\"http://www.w3.org/1999/xlink\">\n <metadata>\n  <rdf:RDF xmlns:cc=\"http://creativecommons.org/ns#\" xmlns:dc=\"http://purl.org/dc/elements/1.1/\" xmlns:rdf=\"http://www.w3.org/1999/02/22-rdf-syntax-ns#\">\n   <cc:Work>\n    <dc:type rdf:resource=\"http://purl.org/dc/dcmitype/StillImage\"/>\n    <dc:date>2021-03-05T14:13:16.850785</dc:date>\n    <dc:format>image/svg+xml</dc:format>\n    <dc:creator>\n     <cc:Agent>\n      <dc:title>Matplotlib v3.3.1, https://matplotlib.org/</dc:title>\n     </cc:Agent>\n    </dc:creator>\n   </cc:Work>\n  </rdf:RDF>\n </metadata>\n <defs>\n  <style type=\"text/css\">*{stroke-linecap:butt;stroke-linejoin:round;}</style>\n </defs>\n <g id=\"figure_1\">\n  <g id=\"patch_1\">\n   <path d=\"M 0 262.19625 \nL 401.690625 262.19625 \nL 401.690625 0 \nL 0 0 \nz\n\" style=\"fill:none;\"/>\n  </g>\n  <g id=\"axes_1\">\n   <g id=\"patch_2\">\n    <path d=\"M 59.690625 224.64 \nL 394.490625 224.64 \nL 394.490625 7.2 \nL 59.690625 7.2 \nz\n\" style=\"fill:#ffffff;\"/>\n   </g>\n   <g id=\"matplotlib.axis_1\">\n    <g id=\"xtick_1\">\n     <g id=\"line2d_1\">\n      <defs>\n       <path d=\"M 0 0 \nL 0 3.5 \n\" id=\"m19c5248e40\" style=\"stroke:#000000;stroke-width:0.8;\"/>\n      </defs>\n      <g>\n       <use style=\"stroke:#000000;stroke-width:0.8;\" x=\"74.908807\" xlink:href=\"#m19c5248e40\" y=\"224.64\"/>\n      </g>\n     </g>\n     <g id=\"text_1\">\n      <!-- 0 -->\n      <g transform=\"translate(71.727557 239.238437)scale(0.1 -0.1)\">\n       <defs>\n        <path d=\"M 31.78125 66.40625 \nQ 24.171875 66.40625 20.328125 58.90625 \nQ 16.5 51.421875 16.5 36.375 \nQ 16.5 21.390625 20.328125 13.890625 \nQ 24.171875 6.390625 31.78125 6.390625 \nQ 39.453125 6.390625 43.28125 13.890625 \nQ 47.125 21.390625 47.125 36.375 \nQ 47.125 51.421875 43.28125 58.90625 \nQ 39.453125 66.40625 31.78125 66.40625 \nz\nM 31.78125 74.21875 \nQ 44.046875 74.21875 50.515625 64.515625 \nQ 56.984375 54.828125 56.984375 36.375 \nQ 56.984375 17.96875 50.515625 8.265625 \nQ 44.046875 -1.421875 31.78125 -1.421875 \nQ 19.53125 -1.421875 13.0625 8.265625 \nQ 6.59375 17.96875 6.59375 36.375 \nQ 6.59375 54.828125 13.0625 64.515625 \nQ 19.53125 74.21875 31.78125 74.21875 \nz\n\" id=\"DejaVuSans-48\"/>\n       </defs>\n       <use xlink:href=\"#DejaVuSans-48\"/>\n      </g>\n     </g>\n    </g>\n    <g id=\"xtick_2\">\n     <g id=\"line2d_2\">\n      <g>\n       <use style=\"stroke:#000000;stroke-width:0.8;\" x=\"135.903524\" xlink:href=\"#m19c5248e40\" y=\"224.64\"/>\n      </g>\n     </g>\n     <g id=\"text_2\">\n      <!-- 100 -->\n      <g transform=\"translate(126.359774 239.238437)scale(0.1 -0.1)\">\n       <defs>\n        <path d=\"M 12.40625 8.296875 \nL 28.515625 8.296875 \nL 28.515625 63.921875 \nL 10.984375 60.40625 \nL 10.984375 69.390625 \nL 28.421875 72.90625 \nL 38.28125 72.90625 \nL 38.28125 8.296875 \nL 54.390625 8.296875 \nL 54.390625 0 \nL 12.40625 0 \nz\n\" id=\"DejaVuSans-49\"/>\n       </defs>\n       <use xlink:href=\"#DejaVuSans-49\"/>\n       <use x=\"63.623047\" xlink:href=\"#DejaVuSans-48\"/>\n       <use x=\"127.246094\" xlink:href=\"#DejaVuSans-48\"/>\n      </g>\n     </g>\n    </g>\n    <g id=\"xtick_3\">\n     <g id=\"line2d_3\">\n      <g>\n       <use style=\"stroke:#000000;stroke-width:0.8;\" x=\"196.89824\" xlink:href=\"#m19c5248e40\" y=\"224.64\"/>\n      </g>\n     </g>\n     <g id=\"text_3\">\n      <!-- 200 -->\n      <g transform=\"translate(187.35449 239.238437)scale(0.1 -0.1)\">\n       <defs>\n        <path d=\"M 19.1875 8.296875 \nL 53.609375 8.296875 \nL 53.609375 0 \nL 7.328125 0 \nL 7.328125 8.296875 \nQ 12.9375 14.109375 22.625 23.890625 \nQ 32.328125 33.6875 34.8125 36.53125 \nQ 39.546875 41.84375 41.421875 45.53125 \nQ 43.3125 49.21875 43.3125 52.78125 \nQ 43.3125 58.59375 39.234375 62.25 \nQ 35.15625 65.921875 28.609375 65.921875 \nQ 23.96875 65.921875 18.8125 64.3125 \nQ 13.671875 62.703125 7.8125 59.421875 \nL 7.8125 69.390625 \nQ 13.765625 71.78125 18.9375 73 \nQ 24.125 74.21875 28.421875 74.21875 \nQ 39.75 74.21875 46.484375 68.546875 \nQ 53.21875 62.890625 53.21875 53.421875 \nQ 53.21875 48.921875 51.53125 44.890625 \nQ 49.859375 40.875 45.40625 35.40625 \nQ 44.1875 33.984375 37.640625 27.21875 \nQ 31.109375 20.453125 19.1875 8.296875 \nz\n\" id=\"DejaVuSans-50\"/>\n       </defs>\n       <use xlink:href=\"#DejaVuSans-50\"/>\n       <use x=\"63.623047\" xlink:href=\"#DejaVuSans-48\"/>\n       <use x=\"127.246094\" xlink:href=\"#DejaVuSans-48\"/>\n      </g>\n     </g>\n    </g>\n    <g id=\"xtick_4\">\n     <g id=\"line2d_4\">\n      <g>\n       <use style=\"stroke:#000000;stroke-width:0.8;\" x=\"257.892957\" xlink:href=\"#m19c5248e40\" y=\"224.64\"/>\n      </g>\n     </g>\n     <g id=\"text_4\">\n      <!-- 300 -->\n      <g transform=\"translate(248.349207 239.238437)scale(0.1 -0.1)\">\n       <defs>\n        <path d=\"M 40.578125 39.3125 \nQ 47.65625 37.796875 51.625 33 \nQ 55.609375 28.21875 55.609375 21.1875 \nQ 55.609375 10.40625 48.1875 4.484375 \nQ 40.765625 -1.421875 27.09375 -1.421875 \nQ 22.515625 -1.421875 17.65625 -0.515625 \nQ 12.796875 0.390625 7.625 2.203125 \nL 7.625 11.71875 \nQ 11.71875 9.328125 16.59375 8.109375 \nQ 21.484375 6.890625 26.8125 6.890625 \nQ 36.078125 6.890625 40.9375 10.546875 \nQ 45.796875 14.203125 45.796875 21.1875 \nQ 45.796875 27.640625 41.28125 31.265625 \nQ 36.765625 34.90625 28.71875 34.90625 \nL 20.21875 34.90625 \nL 20.21875 43.015625 \nL 29.109375 43.015625 \nQ 36.375 43.015625 40.234375 45.921875 \nQ 44.09375 48.828125 44.09375 54.296875 \nQ 44.09375 59.90625 40.109375 62.90625 \nQ 36.140625 65.921875 28.71875 65.921875 \nQ 24.65625 65.921875 20.015625 65.03125 \nQ 15.375 64.15625 9.8125 62.3125 \nL 9.8125 71.09375 \nQ 15.4375 72.65625 20.34375 73.4375 \nQ 25.25 74.21875 29.59375 74.21875 \nQ 40.828125 74.21875 47.359375 69.109375 \nQ 53.90625 64.015625 53.90625 55.328125 \nQ 53.90625 49.265625 50.4375 45.09375 \nQ 46.96875 40.921875 40.578125 39.3125 \nz\n\" id=\"DejaVuSans-51\"/>\n       </defs>\n       <use xlink:href=\"#DejaVuSans-51\"/>\n       <use x=\"63.623047\" xlink:href=\"#DejaVuSans-48\"/>\n       <use x=\"127.246094\" xlink:href=\"#DejaVuSans-48\"/>\n      </g>\n     </g>\n    </g>\n    <g id=\"xtick_5\">\n     <g id=\"line2d_5\">\n      <g>\n       <use style=\"stroke:#000000;stroke-width:0.8;\" x=\"318.887674\" xlink:href=\"#m19c5248e40\" y=\"224.64\"/>\n      </g>\n     </g>\n     <g id=\"text_5\">\n      <!-- 400 -->\n      <g transform=\"translate(309.343924 239.238437)scale(0.1 -0.1)\">\n       <defs>\n        <path d=\"M 37.796875 64.3125 \nL 12.890625 25.390625 \nL 37.796875 25.390625 \nz\nM 35.203125 72.90625 \nL 47.609375 72.90625 \nL 47.609375 25.390625 \nL 58.015625 25.390625 \nL 58.015625 17.1875 \nL 47.609375 17.1875 \nL 47.609375 0 \nL 37.796875 0 \nL 37.796875 17.1875 \nL 4.890625 17.1875 \nL 4.890625 26.703125 \nz\n\" id=\"DejaVuSans-52\"/>\n       </defs>\n       <use xlink:href=\"#DejaVuSans-52\"/>\n       <use x=\"63.623047\" xlink:href=\"#DejaVuSans-48\"/>\n       <use x=\"127.246094\" xlink:href=\"#DejaVuSans-48\"/>\n      </g>\n     </g>\n    </g>\n    <g id=\"xtick_6\">\n     <g id=\"line2d_6\">\n      <g>\n       <use style=\"stroke:#000000;stroke-width:0.8;\" x=\"379.88239\" xlink:href=\"#m19c5248e40\" y=\"224.64\"/>\n      </g>\n     </g>\n     <g id=\"text_6\">\n      <!-- 500 -->\n      <g transform=\"translate(370.33864 239.238437)scale(0.1 -0.1)\">\n       <defs>\n        <path d=\"M 10.796875 72.90625 \nL 49.515625 72.90625 \nL 49.515625 64.59375 \nL 19.828125 64.59375 \nL 19.828125 46.734375 \nQ 21.96875 47.46875 24.109375 47.828125 \nQ 26.265625 48.1875 28.421875 48.1875 \nQ 40.625 48.1875 47.75 41.5 \nQ 54.890625 34.8125 54.890625 23.390625 \nQ 54.890625 11.625 47.5625 5.09375 \nQ 40.234375 -1.421875 26.90625 -1.421875 \nQ 22.3125 -1.421875 17.546875 -0.640625 \nQ 12.796875 0.140625 7.71875 1.703125 \nL 7.71875 11.625 \nQ 12.109375 9.234375 16.796875 8.0625 \nQ 21.484375 6.890625 26.703125 6.890625 \nQ 35.15625 6.890625 40.078125 11.328125 \nQ 45.015625 15.765625 45.015625 23.390625 \nQ 45.015625 31 40.078125 35.4375 \nQ 35.15625 39.890625 26.703125 39.890625 \nQ 22.75 39.890625 18.8125 39.015625 \nQ 14.890625 38.140625 10.796875 36.28125 \nz\n\" id=\"DejaVuSans-53\"/>\n       </defs>\n       <use xlink:href=\"#DejaVuSans-53\"/>\n       <use x=\"63.623047\" xlink:href=\"#DejaVuSans-48\"/>\n       <use x=\"127.246094\" xlink:href=\"#DejaVuSans-48\"/>\n      </g>\n     </g>\n    </g>\n    <g id=\"text_7\">\n     <!-- word index -->\n     <g transform=\"translate(199.530469 252.916562)scale(0.1 -0.1)\">\n      <defs>\n       <path d=\"M 4.203125 54.6875 \nL 13.1875 54.6875 \nL 24.421875 12.015625 \nL 35.59375 54.6875 \nL 46.1875 54.6875 \nL 57.421875 12.015625 \nL 68.609375 54.6875 \nL 77.59375 54.6875 \nL 63.28125 0 \nL 52.6875 0 \nL 40.921875 44.828125 \nL 29.109375 0 \nL 18.5 0 \nz\n\" id=\"DejaVuSans-119\"/>\n       <path d=\"M 30.609375 48.390625 \nQ 23.390625 48.390625 19.1875 42.75 \nQ 14.984375 37.109375 14.984375 27.296875 \nQ 14.984375 17.484375 19.15625 11.84375 \nQ 23.34375 6.203125 30.609375 6.203125 \nQ 37.796875 6.203125 41.984375 11.859375 \nQ 46.1875 17.53125 46.1875 27.296875 \nQ 46.1875 37.015625 41.984375 42.703125 \nQ 37.796875 48.390625 30.609375 48.390625 \nz\nM 30.609375 56 \nQ 42.328125 56 49.015625 48.375 \nQ 55.71875 40.765625 55.71875 27.296875 \nQ 55.71875 13.875 49.015625 6.21875 \nQ 42.328125 -1.421875 30.609375 -1.421875 \nQ 18.84375 -1.421875 12.171875 6.21875 \nQ 5.515625 13.875 5.515625 27.296875 \nQ 5.515625 40.765625 12.171875 48.375 \nQ 18.84375 56 30.609375 56 \nz\n\" id=\"DejaVuSans-111\"/>\n       <path d=\"M 41.109375 46.296875 \nQ 39.59375 47.171875 37.8125 47.578125 \nQ 36.03125 48 33.890625 48 \nQ 26.265625 48 22.1875 43.046875 \nQ 18.109375 38.09375 18.109375 28.8125 \nL 18.109375 0 \nL 9.078125 0 \nL 9.078125 54.6875 \nL 18.109375 54.6875 \nL 18.109375 46.1875 \nQ 20.953125 51.171875 25.484375 53.578125 \nQ 30.03125 56 36.53125 56 \nQ 37.453125 56 38.578125 55.875 \nQ 39.703125 55.765625 41.0625 55.515625 \nz\n\" id=\"DejaVuSans-114\"/>\n       <path d=\"M 45.40625 46.390625 \nL 45.40625 75.984375 \nL 54.390625 75.984375 \nL 54.390625 0 \nL 45.40625 0 \nL 45.40625 8.203125 \nQ 42.578125 3.328125 38.25 0.953125 \nQ 33.9375 -1.421875 27.875 -1.421875 \nQ 17.96875 -1.421875 11.734375 6.484375 \nQ 5.515625 14.40625 5.515625 27.296875 \nQ 5.515625 40.1875 11.734375 48.09375 \nQ 17.96875 56 27.875 56 \nQ 33.9375 56 38.25 53.625 \nQ 42.578125 51.265625 45.40625 46.390625 \nz\nM 14.796875 27.296875 \nQ 14.796875 17.390625 18.875 11.75 \nQ 22.953125 6.109375 30.078125 6.109375 \nQ 37.203125 6.109375 41.296875 11.75 \nQ 45.40625 17.390625 45.40625 27.296875 \nQ 45.40625 37.203125 41.296875 42.84375 \nQ 37.203125 48.484375 30.078125 48.484375 \nQ 22.953125 48.484375 18.875 42.84375 \nQ 14.796875 37.203125 14.796875 27.296875 \nz\n\" id=\"DejaVuSans-100\"/>\n       <path id=\"DejaVuSans-32\"/>\n       <path d=\"M 9.421875 54.6875 \nL 18.40625 54.6875 \nL 18.40625 0 \nL 9.421875 0 \nz\nM 9.421875 75.984375 \nL 18.40625 75.984375 \nL 18.40625 64.59375 \nL 9.421875 64.59375 \nz\n\" id=\"DejaVuSans-105\"/>\n       <path d=\"M 54.890625 33.015625 \nL 54.890625 0 \nL 45.90625 0 \nL 45.90625 32.71875 \nQ 45.90625 40.484375 42.875 44.328125 \nQ 39.84375 48.1875 33.796875 48.1875 \nQ 26.515625 48.1875 22.3125 43.546875 \nQ 18.109375 38.921875 18.109375 30.90625 \nL 18.109375 0 \nL 9.078125 0 \nL 9.078125 54.6875 \nL 18.109375 54.6875 \nL 18.109375 46.1875 \nQ 21.34375 51.125 25.703125 53.5625 \nQ 30.078125 56 35.796875 56 \nQ 45.21875 56 50.046875 50.171875 \nQ 54.890625 44.34375 54.890625 33.015625 \nz\n\" id=\"DejaVuSans-110\"/>\n       <path d=\"M 56.203125 29.59375 \nL 56.203125 25.203125 \nL 14.890625 25.203125 \nQ 15.484375 15.921875 20.484375 11.0625 \nQ 25.484375 6.203125 34.421875 6.203125 \nQ 39.59375 6.203125 44.453125 7.46875 \nQ 49.3125 8.734375 54.109375 11.28125 \nL 54.109375 2.78125 \nQ 49.265625 0.734375 44.1875 -0.34375 \nQ 39.109375 -1.421875 33.890625 -1.421875 \nQ 20.796875 -1.421875 13.15625 6.1875 \nQ 5.515625 13.8125 5.515625 26.8125 \nQ 5.515625 40.234375 12.765625 48.109375 \nQ 20.015625 56 32.328125 56 \nQ 43.359375 56 49.78125 48.890625 \nQ 56.203125 41.796875 56.203125 29.59375 \nz\nM 47.21875 32.234375 \nQ 47.125 39.59375 43.09375 43.984375 \nQ 39.0625 48.390625 32.421875 48.390625 \nQ 24.90625 48.390625 20.390625 44.140625 \nQ 15.875 39.890625 15.1875 32.171875 \nz\n\" id=\"DejaVuSans-101\"/>\n       <path d=\"M 54.890625 54.6875 \nL 35.109375 28.078125 \nL 55.90625 0 \nL 45.3125 0 \nL 29.390625 21.484375 \nL 13.484375 0 \nL 2.875 0 \nL 24.125 28.609375 \nL 4.6875 54.6875 \nL 15.28125 54.6875 \nL 29.78125 35.203125 \nL 44.28125 54.6875 \nz\n\" id=\"DejaVuSans-120\"/>\n      </defs>\n      <use xlink:href=\"#DejaVuSans-119\"/>\n      <use x=\"81.787109\" xlink:href=\"#DejaVuSans-111\"/>\n      <use x=\"142.96875\" xlink:href=\"#DejaVuSans-114\"/>\n      <use x=\"182.332031\" xlink:href=\"#DejaVuSans-100\"/>\n      <use x=\"245.808594\" xlink:href=\"#DejaVuSans-32\"/>\n      <use x=\"277.595703\" xlink:href=\"#DejaVuSans-105\"/>\n      <use x=\"305.378906\" xlink:href=\"#DejaVuSans-110\"/>\n      <use x=\"368.757812\" xlink:href=\"#DejaVuSans-100\"/>\n      <use x=\"432.234375\" xlink:href=\"#DejaVuSans-101\"/>\n      <use x=\"492.007812\" xlink:href=\"#DejaVuSans-120\"/>\n     </g>\n    </g>\n   </g>\n   <g id=\"matplotlib.axis_2\">\n    <g id=\"ytick_1\">\n     <g id=\"line2d_7\">\n      <defs>\n       <path d=\"M 0 0 \nL -3.5 0 \n\" id=\"ma404ca9dac\" style=\"stroke:#000000;stroke-width:0.8;\"/>\n      </defs>\n      <g>\n       <use style=\"stroke:#000000;stroke-width:0.8;\" x=\"59.690625\" xlink:href=\"#ma404ca9dac\" y=\"217.144414\"/>\n      </g>\n     </g>\n     <g id=\"text_8\">\n      <!-- 0 -->\n      <g transform=\"translate(46.328125 220.943633)scale(0.1 -0.1)\">\n       <use xlink:href=\"#DejaVuSans-48\"/>\n      </g>\n     </g>\n    </g>\n    <g id=\"ytick_2\">\n     <g id=\"line2d_8\">\n      <g>\n       <use style=\"stroke:#000000;stroke-width:0.8;\" x=\"59.690625\" xlink:href=\"#ma404ca9dac\" y=\"191.766618\"/>\n      </g>\n     </g>\n     <g id=\"text_9\">\n      <!-- 10000 -->\n      <g transform=\"translate(20.878125 195.565837)scale(0.1 -0.1)\">\n       <use xlink:href=\"#DejaVuSans-49\"/>\n       <use x=\"63.623047\" xlink:href=\"#DejaVuSans-48\"/>\n       <use x=\"127.246094\" xlink:href=\"#DejaVuSans-48\"/>\n       <use x=\"190.869141\" xlink:href=\"#DejaVuSans-48\"/>\n       <use x=\"254.492188\" xlink:href=\"#DejaVuSans-48\"/>\n      </g>\n     </g>\n    </g>\n    <g id=\"ytick_3\">\n     <g id=\"line2d_9\">\n      <g>\n       <use style=\"stroke:#000000;stroke-width:0.8;\" x=\"59.690625\" xlink:href=\"#ma404ca9dac\" y=\"166.388823\"/>\n      </g>\n     </g>\n     <g id=\"text_10\">\n      <!-- 20000 -->\n      <g transform=\"translate(20.878125 170.188041)scale(0.1 -0.1)\">\n       <use xlink:href=\"#DejaVuSans-50\"/>\n       <use x=\"63.623047\" xlink:href=\"#DejaVuSans-48\"/>\n       <use x=\"127.246094\" xlink:href=\"#DejaVuSans-48\"/>\n       <use x=\"190.869141\" xlink:href=\"#DejaVuSans-48\"/>\n       <use x=\"254.492188\" xlink:href=\"#DejaVuSans-48\"/>\n      </g>\n     </g>\n    </g>\n    <g id=\"ytick_4\">\n     <g id=\"line2d_10\">\n      <g>\n       <use style=\"stroke:#000000;stroke-width:0.8;\" x=\"59.690625\" xlink:href=\"#ma404ca9dac\" y=\"141.011027\"/>\n      </g>\n     </g>\n     <g id=\"text_11\">\n      <!-- 30000 -->\n      <g transform=\"translate(20.878125 144.810245)scale(0.1 -0.1)\">\n       <use xlink:href=\"#DejaVuSans-51\"/>\n       <use x=\"63.623047\" xlink:href=\"#DejaVuSans-48\"/>\n       <use x=\"127.246094\" xlink:href=\"#DejaVuSans-48\"/>\n       <use x=\"190.869141\" xlink:href=\"#DejaVuSans-48\"/>\n       <use x=\"254.492188\" xlink:href=\"#DejaVuSans-48\"/>\n      </g>\n     </g>\n    </g>\n    <g id=\"ytick_5\">\n     <g id=\"line2d_11\">\n      <g>\n       <use style=\"stroke:#000000;stroke-width:0.8;\" x=\"59.690625\" xlink:href=\"#ma404ca9dac\" y=\"115.633231\"/>\n      </g>\n     </g>\n     <g id=\"text_12\">\n      <!-- 40000 -->\n      <g transform=\"translate(20.878125 119.43245)scale(0.1 -0.1)\">\n       <use xlink:href=\"#DejaVuSans-52\"/>\n       <use x=\"63.623047\" xlink:href=\"#DejaVuSans-48\"/>\n       <use x=\"127.246094\" xlink:href=\"#DejaVuSans-48\"/>\n       <use x=\"190.869141\" xlink:href=\"#DejaVuSans-48\"/>\n       <use x=\"254.492188\" xlink:href=\"#DejaVuSans-48\"/>\n      </g>\n     </g>\n    </g>\n    <g id=\"ytick_6\">\n     <g id=\"line2d_12\">\n      <g>\n       <use style=\"stroke:#000000;stroke-width:0.8;\" x=\"59.690625\" xlink:href=\"#ma404ca9dac\" y=\"90.255435\"/>\n      </g>\n     </g>\n     <g id=\"text_13\">\n      <!-- 50000 -->\n      <g transform=\"translate(20.878125 94.054654)scale(0.1 -0.1)\">\n       <use xlink:href=\"#DejaVuSans-53\"/>\n       <use x=\"63.623047\" xlink:href=\"#DejaVuSans-48\"/>\n       <use x=\"127.246094\" xlink:href=\"#DejaVuSans-48\"/>\n       <use x=\"190.869141\" xlink:href=\"#DejaVuSans-48\"/>\n       <use x=\"254.492188\" xlink:href=\"#DejaVuSans-48\"/>\n      </g>\n     </g>\n    </g>\n    <g id=\"ytick_7\">\n     <g id=\"line2d_13\">\n      <g>\n       <use style=\"stroke:#000000;stroke-width:0.8;\" x=\"59.690625\" xlink:href=\"#ma404ca9dac\" y=\"64.877639\"/>\n      </g>\n     </g>\n     <g id=\"text_14\">\n      <!-- 60000 -->\n      <g transform=\"translate(20.878125 68.676858)scale(0.1 -0.1)\">\n       <defs>\n        <path d=\"M 33.015625 40.375 \nQ 26.375 40.375 22.484375 35.828125 \nQ 18.609375 31.296875 18.609375 23.390625 \nQ 18.609375 15.53125 22.484375 10.953125 \nQ 26.375 6.390625 33.015625 6.390625 \nQ 39.65625 6.390625 43.53125 10.953125 \nQ 47.40625 15.53125 47.40625 23.390625 \nQ 47.40625 31.296875 43.53125 35.828125 \nQ 39.65625 40.375 33.015625 40.375 \nz\nM 52.59375 71.296875 \nL 52.59375 62.3125 \nQ 48.875 64.0625 45.09375 64.984375 \nQ 41.3125 65.921875 37.59375 65.921875 \nQ 27.828125 65.921875 22.671875 59.328125 \nQ 17.53125 52.734375 16.796875 39.40625 \nQ 19.671875 43.65625 24.015625 45.921875 \nQ 28.375 48.1875 33.59375 48.1875 \nQ 44.578125 48.1875 50.953125 41.515625 \nQ 57.328125 34.859375 57.328125 23.390625 \nQ 57.328125 12.15625 50.6875 5.359375 \nQ 44.046875 -1.421875 33.015625 -1.421875 \nQ 20.359375 -1.421875 13.671875 8.265625 \nQ 6.984375 17.96875 6.984375 36.375 \nQ 6.984375 53.65625 15.1875 63.9375 \nQ 23.390625 74.21875 37.203125 74.21875 \nQ 40.921875 74.21875 44.703125 73.484375 \nQ 48.484375 72.75 52.59375 71.296875 \nz\n\" id=\"DejaVuSans-54\"/>\n       </defs>\n       <use xlink:href=\"#DejaVuSans-54\"/>\n       <use x=\"63.623047\" xlink:href=\"#DejaVuSans-48\"/>\n       <use x=\"127.246094\" xlink:href=\"#DejaVuSans-48\"/>\n       <use x=\"190.869141\" xlink:href=\"#DejaVuSans-48\"/>\n       <use x=\"254.492188\" xlink:href=\"#DejaVuSans-48\"/>\n      </g>\n     </g>\n    </g>\n    <g id=\"ytick_8\">\n     <g id=\"line2d_14\">\n      <g>\n       <use style=\"stroke:#000000;stroke-width:0.8;\" x=\"59.690625\" xlink:href=\"#ma404ca9dac\" y=\"39.499843\"/>\n      </g>\n     </g>\n     <g id=\"text_15\">\n      <!-- 70000 -->\n      <g transform=\"translate(20.878125 43.299062)scale(0.1 -0.1)\">\n       <defs>\n        <path d=\"M 8.203125 72.90625 \nL 55.078125 72.90625 \nL 55.078125 68.703125 \nL 28.609375 0 \nL 18.3125 0 \nL 43.21875 64.59375 \nL 8.203125 64.59375 \nz\n\" id=\"DejaVuSans-55\"/>\n       </defs>\n       <use xlink:href=\"#DejaVuSans-55\"/>\n       <use x=\"63.623047\" xlink:href=\"#DejaVuSans-48\"/>\n       <use x=\"127.246094\" xlink:href=\"#DejaVuSans-48\"/>\n       <use x=\"190.869141\" xlink:href=\"#DejaVuSans-48\"/>\n       <use x=\"254.492188\" xlink:href=\"#DejaVuSans-48\"/>\n      </g>\n     </g>\n    </g>\n    <g id=\"ytick_9\">\n     <g id=\"line2d_15\">\n      <g>\n       <use style=\"stroke:#000000;stroke-width:0.8;\" x=\"59.690625\" xlink:href=\"#ma404ca9dac\" y=\"14.122048\"/>\n      </g>\n     </g>\n     <g id=\"text_16\">\n      <!-- 80000 -->\n      <g transform=\"translate(20.878125 17.921266)scale(0.1 -0.1)\">\n       <defs>\n        <path d=\"M 31.78125 34.625 \nQ 24.75 34.625 20.71875 30.859375 \nQ 16.703125 27.09375 16.703125 20.515625 \nQ 16.703125 13.921875 20.71875 10.15625 \nQ 24.75 6.390625 31.78125 6.390625 \nQ 38.8125 6.390625 42.859375 10.171875 \nQ 46.921875 13.96875 46.921875 20.515625 \nQ 46.921875 27.09375 42.890625 30.859375 \nQ 38.875 34.625 31.78125 34.625 \nz\nM 21.921875 38.8125 \nQ 15.578125 40.375 12.03125 44.71875 \nQ 8.5 49.078125 8.5 55.328125 \nQ 8.5 64.0625 14.71875 69.140625 \nQ 20.953125 74.21875 31.78125 74.21875 \nQ 42.671875 74.21875 48.875 69.140625 \nQ 55.078125 64.0625 55.078125 55.328125 \nQ 55.078125 49.078125 51.53125 44.71875 \nQ 48 40.375 41.703125 38.8125 \nQ 48.828125 37.15625 52.796875 32.3125 \nQ 56.78125 27.484375 56.78125 20.515625 \nQ 56.78125 9.90625 50.3125 4.234375 \nQ 43.84375 -1.421875 31.78125 -1.421875 \nQ 19.734375 -1.421875 13.25 4.234375 \nQ 6.78125 9.90625 6.78125 20.515625 \nQ 6.78125 27.484375 10.78125 32.3125 \nQ 14.796875 37.15625 21.921875 38.8125 \nz\nM 18.3125 54.390625 \nQ 18.3125 48.734375 21.84375 45.5625 \nQ 25.390625 42.390625 31.78125 42.390625 \nQ 38.140625 42.390625 41.71875 45.5625 \nQ 45.3125 48.734375 45.3125 54.390625 \nQ 45.3125 60.0625 41.71875 63.234375 \nQ 38.140625 66.40625 31.78125 66.40625 \nQ 25.390625 66.40625 21.84375 63.234375 \nQ 18.3125 60.0625 18.3125 54.390625 \nz\n\" id=\"DejaVuSans-56\"/>\n       </defs>\n       <use xlink:href=\"#DejaVuSans-56\"/>\n       <use x=\"63.623047\" xlink:href=\"#DejaVuSans-48\"/>\n       <use x=\"127.246094\" xlink:href=\"#DejaVuSans-48\"/>\n       <use x=\"190.869141\" xlink:href=\"#DejaVuSans-48\"/>\n       <use x=\"254.492188\" xlink:href=\"#DejaVuSans-48\"/>\n      </g>\n     </g>\n    </g>\n    <g id=\"text_17\">\n     <!-- word frequency -->\n     <g transform=\"translate(14.798438 154.87625)rotate(-90)scale(0.1 -0.1)\">\n      <defs>\n       <path d=\"M 37.109375 75.984375 \nL 37.109375 68.5 \nL 28.515625 68.5 \nQ 23.6875 68.5 21.796875 66.546875 \nQ 19.921875 64.59375 19.921875 59.515625 \nL 19.921875 54.6875 \nL 34.71875 54.6875 \nL 34.71875 47.703125 \nL 19.921875 47.703125 \nL 19.921875 0 \nL 10.890625 0 \nL 10.890625 47.703125 \nL 2.296875 47.703125 \nL 2.296875 54.6875 \nL 10.890625 54.6875 \nL 10.890625 58.5 \nQ 10.890625 67.625 15.140625 71.796875 \nQ 19.390625 75.984375 28.609375 75.984375 \nz\n\" id=\"DejaVuSans-102\"/>\n       <path d=\"M 14.796875 27.296875 \nQ 14.796875 17.390625 18.875 11.75 \nQ 22.953125 6.109375 30.078125 6.109375 \nQ 37.203125 6.109375 41.296875 11.75 \nQ 45.40625 17.390625 45.40625 27.296875 \nQ 45.40625 37.203125 41.296875 42.84375 \nQ 37.203125 48.484375 30.078125 48.484375 \nQ 22.953125 48.484375 18.875 42.84375 \nQ 14.796875 37.203125 14.796875 27.296875 \nz\nM 45.40625 8.203125 \nQ 42.578125 3.328125 38.25 0.953125 \nQ 33.9375 -1.421875 27.875 -1.421875 \nQ 17.96875 -1.421875 11.734375 6.484375 \nQ 5.515625 14.40625 5.515625 27.296875 \nQ 5.515625 40.1875 11.734375 48.09375 \nQ 17.96875 56 27.875 56 \nQ 33.9375 56 38.25 53.625 \nQ 42.578125 51.265625 45.40625 46.390625 \nL 45.40625 54.6875 \nL 54.390625 54.6875 \nL 54.390625 -20.796875 \nL 45.40625 -20.796875 \nz\n\" id=\"DejaVuSans-113\"/>\n       <path d=\"M 8.5 21.578125 \nL 8.5 54.6875 \nL 17.484375 54.6875 \nL 17.484375 21.921875 \nQ 17.484375 14.15625 20.5 10.265625 \nQ 23.53125 6.390625 29.59375 6.390625 \nQ 36.859375 6.390625 41.078125 11.03125 \nQ 45.3125 15.671875 45.3125 23.6875 \nL 45.3125 54.6875 \nL 54.296875 54.6875 \nL 54.296875 0 \nL 45.3125 0 \nL 45.3125 8.40625 \nQ 42.046875 3.421875 37.71875 1 \nQ 33.40625 -1.421875 27.6875 -1.421875 \nQ 18.265625 -1.421875 13.375 4.4375 \nQ 8.5 10.296875 8.5 21.578125 \nz\nM 31.109375 56 \nz\n\" id=\"DejaVuSans-117\"/>\n       <path d=\"M 48.78125 52.59375 \nL 48.78125 44.1875 \nQ 44.96875 46.296875 41.140625 47.34375 \nQ 37.3125 48.390625 33.40625 48.390625 \nQ 24.65625 48.390625 19.8125 42.84375 \nQ 14.984375 37.3125 14.984375 27.296875 \nQ 14.984375 17.28125 19.8125 11.734375 \nQ 24.65625 6.203125 33.40625 6.203125 \nQ 37.3125 6.203125 41.140625 7.25 \nQ 44.96875 8.296875 48.78125 10.40625 \nL 48.78125 2.09375 \nQ 45.015625 0.34375 40.984375 -0.53125 \nQ 36.96875 -1.421875 32.421875 -1.421875 \nQ 20.0625 -1.421875 12.78125 6.34375 \nQ 5.515625 14.109375 5.515625 27.296875 \nQ 5.515625 40.671875 12.859375 48.328125 \nQ 20.21875 56 33.015625 56 \nQ 37.15625 56 41.109375 55.140625 \nQ 45.0625 54.296875 48.78125 52.59375 \nz\n\" id=\"DejaVuSans-99\"/>\n       <path d=\"M 32.171875 -5.078125 \nQ 28.375 -14.84375 24.75 -17.8125 \nQ 21.140625 -20.796875 15.09375 -20.796875 \nL 7.90625 -20.796875 \nL 7.90625 -13.28125 \nL 13.1875 -13.28125 \nQ 16.890625 -13.28125 18.9375 -11.515625 \nQ 21 -9.765625 23.484375 -3.21875 \nL 25.09375 0.875 \nL 2.984375 54.6875 \nL 12.5 54.6875 \nL 29.59375 11.921875 \nL 46.6875 54.6875 \nL 56.203125 54.6875 \nz\n\" id=\"DejaVuSans-121\"/>\n      </defs>\n      <use xlink:href=\"#DejaVuSans-119\"/>\n      <use x=\"81.787109\" xlink:href=\"#DejaVuSans-111\"/>\n      <use x=\"142.96875\" xlink:href=\"#DejaVuSans-114\"/>\n      <use x=\"182.332031\" xlink:href=\"#DejaVuSans-100\"/>\n      <use x=\"245.808594\" xlink:href=\"#DejaVuSans-32\"/>\n      <use x=\"277.595703\" xlink:href=\"#DejaVuSans-102\"/>\n      <use x=\"312.800781\" xlink:href=\"#DejaVuSans-114\"/>\n      <use x=\"351.664062\" xlink:href=\"#DejaVuSans-101\"/>\n      <use x=\"413.1875\" xlink:href=\"#DejaVuSans-113\"/>\n      <use x=\"476.664062\" xlink:href=\"#DejaVuSans-117\"/>\n      <use x=\"540.042969\" xlink:href=\"#DejaVuSans-101\"/>\n      <use x=\"601.566406\" xlink:href=\"#DejaVuSans-110\"/>\n      <use x=\"664.945312\" xlink:href=\"#DejaVuSans-99\"/>\n      <use x=\"719.925781\" xlink:href=\"#DejaVuSans-121\"/>\n     </g>\n    </g>\n   </g>\n   <g id=\"line2d_16\">\n    <path clip-path=\"url(#pa3bef1ed41)\" d=\"M 74.908807 17.083636 \nL 75.518754 74.556731 \nL 76.128701 76.510821 \nL 76.738648 98.434699 \nL 77.348595 110.047578 \nL 77.958543 135.392383 \nL 78.56849 139.919782 \nL 79.178437 162.201486 \nL 79.788384 167.434388 \nL 80.398331 169.325034 \nL 81.008278 172.862698 \nL 81.618226 181.904807 \nL 82.228173 183.627959 \nL 82.83812 190.855556 \nL 83.448067 191.817374 \nL 84.058014 192.017859 \nL 84.667961 193.030433 \nL 85.277909 194.672376 \nL 85.887856 195.862595 \nL 86.497803 195.895586 \nL 87.10775 197.258373 \nL 87.717697 197.418254 \nL 88.327644 198.550103 \nL 88.937592 198.613548 \nL 89.547539 199.15917 \nL 90.157486 199.220077 \nL 90.767433 199.511922 \nL 91.37738 199.950958 \nL 91.987327 200.179358 \nL 92.597275 201.273141 \nL 93.207222 201.298519 \nL 93.817169 202.770431 \nL 94.427116 202.831337 \nL 95.037063 203.10288 \nL 95.64701 203.113031 \nL 96.256958 203.577445 \nL 97.476852 203.633276 \nL 98.086799 204.460592 \nL 99.306694 204.549414 \nL 99.916641 204.727059 \nL 100.526588 205.095037 \nL 101.136535 205.110263 \nL 104.186271 205.762473 \nL 104.796218 205.818304 \nL 106.016112 206.310633 \nL 106.62606 206.338549 \nL 107.236007 206.59994 \nL 107.845954 206.602478 \nL 108.455901 206.785198 \nL 116.995161 207.483087 \nL 117.605109 207.747016 \nL 120.044897 207.91451 \nL 129.804052 208.871253 \nL 132.853788 209.122493 \nL 135.293576 209.490471 \nL 138.343312 209.784853 \nL 139.563207 210.010716 \nL 152.372097 210.838032 \nL 153.591991 210.957308 \nL 154.201939 211.081659 \nL 157.861622 211.20601 \nL 162.131252 211.401419 \nL 166.400882 211.612055 \nL 177.989878 211.939428 \nL 182.869455 212.08662 \nL 188.35898 212.289642 \nL 195.678346 212.40638 \nL 197.508187 212.502815 \nL 202.997712 212.629704 \nL 217.026497 212.95454 \nL 220.68618 213.040825 \nL 225.565757 213.162638 \nL 228.005546 213.238771 \nL 286.560474 214.106692 \nL 373.782919 214.723373 \nL 379.272443 214.756364 \nL 379.272443 214.756364 \n\" style=\"fill:none;stroke:#ff0000;stroke-linecap:square;stroke-width:1.5;\"/>\n   </g>\n   <g id=\"patch_3\">\n    <path d=\"M 59.690625 224.64 \nL 59.690625 7.2 \n\" style=\"fill:none;stroke:#000000;stroke-linecap:square;stroke-linejoin:miter;stroke-width:0.8;\"/>\n   </g>\n   <g id=\"patch_4\">\n    <path d=\"M 394.490625 224.64 \nL 394.490625 7.2 \n\" style=\"fill:none;stroke:#000000;stroke-linecap:square;stroke-linejoin:miter;stroke-width:0.8;\"/>\n   </g>\n   <g id=\"patch_5\">\n    <path d=\"M 59.690625 224.64 \nL 394.490625 224.64 \n\" style=\"fill:none;stroke:#000000;stroke-linecap:square;stroke-linejoin:miter;stroke-width:0.8;\"/>\n   </g>\n   <g id=\"patch_6\">\n    <path d=\"M 59.690625 7.2 \nL 394.490625 7.2 \n\" style=\"fill:none;stroke:#000000;stroke-linecap:square;stroke-linejoin:miter;stroke-width:0.8;\"/>\n   </g>\n  </g>\n </g>\n <defs>\n  <clipPath id=\"pa3bef1ed41\">\n   <rect height=\"217.44\" width=\"334.8\" x=\"59.690625\" y=\"7.2\"/>\n  </clipPath>\n </defs>\n</svg>\n",
      "image/png": "[encoded data removed]"
     },
     "metadata": {
      "needs_background": "light"
     }
    }
   ],
   "source": [
    "word_counts = trn_data.sum(axis=0).tolist()[0]\n",
    "sorted_word_counts = [i for i in sorted(enumerate(word_counts), key=lambda x:x[1], reverse=True)]\n",
    "ivocab = {val:key for (key, val) in vocab.items()}\n",
    "plt.plot(range(len(ivocab))[:500], [v[1] for v in sorted_word_counts][:500], color=\"red\") # Only the top 500 words\n",
    "plt.xlabel(\"word index\");\n",
    "plt.ylabel(\"word frequency\");"
   ]
  },
  {
   "cell_type": "code",
   "execution_count": 53,
   "metadata": {},
   "outputs": [
    {
     "output_type": "execute_result",
     "data": {
      "text/plain": [
       "[('to', 44089),\n",
       " ('the', 43619),\n",
       " ('in', 22657),\n",
       " ('of', 30974),\n",
       " ('for', 18048),\n",
       " ('on', 31171),\n",
       " ('and', 4034),\n",
       " ('with', 48051),\n",
       " ('new', 30079),\n",
       " ('at', 4991)]"
      ]
     },
     "metadata": {},
     "execution_count": 53
    }
   ],
   "source": [
    "# Top 10 most used words\n",
    "ordered_vocab = sorted(vocab.items())\n",
    "indexes = [x[0] for x in sorted_word_counts[:10]]\n",
    "list(ordered_vocab[i] for i in indexes)"
   ]
  },
  {
   "source": [
    "# (c) Build a Classifier"
   ],
   "cell_type": "markdown",
   "metadata": {}
  },
  {
   "cell_type": "code",
   "execution_count": 54,
   "metadata": {},
   "outputs": [
    {
     "output_type": "execute_result",
     "data": {
      "text/plain": [
       "LogisticRegression(C=1, max_iter=200)"
      ]
     },
     "metadata": {},
     "execution_count": 54
    }
   ],
   "source": [
    "classifier = LogisticRegression(fit_intercept=True, penalty=\"l2\", C=1, max_iter=200)\n",
    "classifier.fit(trn_data, trn_topic)"
   ]
  },
  {
   "cell_type": "code",
   "execution_count": 55,
   "metadata": {},
   "outputs": [
    {
     "output_type": "stream",
     "name": "stdout",
     "text": [
      "Training accuracy = 0.9691660992865813\nVal accuracy = 0.9480488672755307\n"
     ]
    }
   ],
   "source": [
    "# Measure the performance on training and dev data\n",
    "print(\"Training accuracy = {}\".format(classifier.score(trn_data, trn_topic)))\n",
    "print(\"Val accuracy = {}\".format(classifier.score(val_data, val_topic)))"
   ]
  },
  {
   "source": [
    "# (d) Hyper-parameter Tuning"
   ],
   "cell_type": "markdown",
   "metadata": {}
  },
  {
   "source": [
    "### Don't execute the following cell, the processed data is loaded in the next cell"
   ],
   "cell_type": "markdown",
   "metadata": {}
  },
  {
   "cell_type": "code",
   "execution_count": 69,
   "metadata": {},
   "outputs": [
    {
     "output_type": "stream",
     "name": "stdout",
     "text": [
      "min_df=1;max_df=0.8;fit_intercept=True;C=10.0 Duration: 29.270467281341553\n",
      "\t Training accuracy = 0.9688523134306267\n",
      "\t Validation accuracy = 0.9448938441466018 \n",
      "\n",
      "min_df=1;max_df=0.8;fit_intercept=True;C=1.0 Duration: 28.91478419303894\n",
      "\t Training accuracy = 0.9649507119386638\n",
      "\t Validation accuracy = 0.9468153243980548 \n",
      "\n",
      "min_df=1;max_df=0.8;fit_intercept=True;C=0.1 Duration: 29.165798902511597\n",
      "\t Training accuracy = 0.9487552174299162\n",
      "\t Validation accuracy = 0.939081959435417 \n",
      "\n",
      "min_df=1;max_df=0.8;fit_intercept=True;C=0.001 Duration: 12.031181335449219\n",
      "\t Training accuracy = 0.8088304076255883\n",
      "\t Validation accuracy = 0.8076384770489858 \n",
      "\n",
      "min_df=1;max_df=0.8;fit_intercept=False;C=10.0 Duration: 26.351170301437378\n",
      "\t Training accuracy = 0.9758148071401084\n",
      "\t Validation accuracy = 0.9449412881034278 \n",
      "\n",
      "min_df=1;max_df=0.8;fit_intercept=False;C=1.0 Duration: 26.504701375961304\n",
      "\t Training accuracy = 0.9685977324531542\n",
      "\t Validation accuracy = 0.9478828134266398 \n",
      "\n",
      "min_df=1;max_df=0.8;fit_intercept=False;C=0.1 Duration: 26.373194694519043\n",
      "\t Training accuracy = 0.9494064710932181\n",
      "\t Validation accuracy = 0.939461511090025 \n",
      "\n",
      "min_df=1;max_df=0.8;fit_intercept=False;C=0.001 Duration: 7.791198015213013\n",
      "\t Training accuracy = 0.8299931914389745\n",
      "\t Validation accuracy = 0.8292966433400546 \n",
      "\n",
      "min_df=1;max_df=1.0;fit_intercept=True;C=10.0 Duration: 28.909443140029907\n",
      "\t Training accuracy = 0.9688523134306267\n",
      "\t Validation accuracy = 0.9448938441466018 \n",
      "\n",
      "min_df=1;max_df=1.0;fit_intercept=True;C=1.0 Duration: 28.943026781082153\n",
      "\t Training accuracy = 0.9649507119386638\n",
      "\t Validation accuracy = 0.9468153243980548 \n",
      "\n",
      "min_df=1;max_df=1.0;fit_intercept=True;C=0.1 Duration: 29.02578616142273\n",
      "\t Training accuracy = 0.9487552174299162\n",
      "\t Validation accuracy = 0.939081959435417 \n",
      "\n",
      "min_df=1;max_df=1.0;fit_intercept=True;C=0.001 Duration: 11.782866716384888\n",
      "\t Training accuracy = 0.8088304076255883\n",
      "\t Validation accuracy = 0.8076384770489858 \n",
      "\n",
      "min_df=1;max_df=1.0;fit_intercept=False;C=10.0 Duration: 26.01911449432373\n",
      "\t Training accuracy = 0.9758148071401084\n",
      "\t Validation accuracy = 0.9449412881034278 \n",
      "\n",
      "min_df=1;max_df=1.0;fit_intercept=False;C=1.0 Duration: 26.667044162750244\n",
      "\t Training accuracy = 0.9685977324531542\n",
      "\t Validation accuracy = 0.9478828134266398 \n",
      "\n",
      "min_df=1;max_df=1.0;fit_intercept=False;C=0.1 Duration: 26.496846199035645\n",
      "\t Training accuracy = 0.9494064710932181\n",
      "\t Validation accuracy = 0.939461511090025 \n",
      "\n",
      "min_df=1;max_df=1.0;fit_intercept=False;C=0.001 Duration: 7.965160369873047\n",
      "\t Training accuracy = 0.8299931914389745\n",
      "\t Validation accuracy = 0.8292966433400546 \n",
      "\n",
      "min_df=5;max_df=0.8;fit_intercept=True;C=10.0 Duration: 26.86993408203125\n",
      "\t Training accuracy = 0.9637932565643409\n",
      "\t Validation accuracy = 0.9454157276716878 \n",
      "\n",
      "min_df=5;max_df=0.8;fit_intercept=True;C=1.0 Duration: 26.559274911880493\n",
      "\t Training accuracy = 0.962396021432166\n",
      "\t Validation accuracy = 0.9466492705491638 \n",
      "\n",
      "min_df=5;max_df=0.8;fit_intercept=True;C=0.1 Duration: 26.78390145301819\n",
      "\t Training accuracy = 0.9476244042509103\n",
      "\t Validation accuracy = 0.9388684616297 \n",
      "\n",
      "min_df=5;max_df=0.8;fit_intercept=True;C=0.001 Duration: 11.13093900680542\n",
      "\t Training accuracy = 0.8087445605517894\n",
      "\t Validation accuracy = 0.8076147550705729 \n",
      "\n",
      "min_df=5;max_df=0.8;fit_intercept=False;C=10.0 Duration: 24.165871620178223\n",
      "\t Training accuracy = 0.9703797992954619\n",
      "\t Validation accuracy = 0.9445142924919938 \n",
      "\n",
      "min_df=5;max_df=0.8;fit_intercept=False;C=1.0 Duration: 24.60101628303528\n",
      "\t Training accuracy = 0.9646458068144815\n",
      "\t Validation accuracy = 0.9468864903332938 \n",
      "\n",
      "min_df=5;max_df=0.8;fit_intercept=False;C=0.1 Duration: 24.823140144348145\n",
      "\t Training accuracy = 0.9480714010834492\n",
      "\t Validation accuracy = 0.9392005693274819 \n",
      "\n",
      "min_df=5;max_df=0.8;fit_intercept=False;C=0.001 Duration: 7.033344507217407\n",
      "\t Training accuracy = 0.8298510997306178\n",
      "\t Validation accuracy = 0.8292729213616415 \n",
      "\n",
      "min_df=5;max_df=1.0;fit_intercept=True;C=10.0 Duration: 26.86470341682434\n",
      "\t Training accuracy = 0.9637932565643409\n",
      "\t Validation accuracy = 0.9454157276716878 \n",
      "\n",
      "min_df=5;max_df=1.0;fit_intercept=True;C=1.0 Duration: 26.44438862800598\n",
      "\t Training accuracy = 0.962396021432166\n",
      "\t Validation accuracy = 0.9466492705491638 \n",
      "\n",
      "min_df=5;max_df=1.0;fit_intercept=True;C=0.1 Duration: 26.139652013778687\n",
      "\t Training accuracy = 0.9476244042509103\n",
      "\t Validation accuracy = 0.9388684616297 \n",
      "\n",
      "min_df=5;max_df=1.0;fit_intercept=True;C=0.001 Duration: 10.95163083076477\n",
      "\t Training accuracy = 0.8087445605517894\n",
      "\t Validation accuracy = 0.8076147550705729 \n",
      "\n",
      "min_df=5;max_df=1.0;fit_intercept=False;C=10.0 Duration: 24.119105339050293\n",
      "\t Training accuracy = 0.9703797992954619\n",
      "\t Validation accuracy = 0.9445142924919938 \n",
      "\n",
      "min_df=5;max_df=1.0;fit_intercept=False;C=1.0 Duration: 24.864880800247192\n",
      "\t Training accuracy = 0.9646458068144815\n",
      "\t Validation accuracy = 0.9468864903332938 \n",
      "\n",
      "min_df=5;max_df=1.0;fit_intercept=False;C=0.1 Duration: 24.37581753730774\n",
      "\t Training accuracy = 0.9480714010834492\n",
      "\t Validation accuracy = 0.9392005693274819 \n",
      "\n",
      "min_df=5;max_df=1.0;fit_intercept=False;C=0.001 Duration: 7.219162464141846\n",
      "\t Training accuracy = 0.8298510997306178\n",
      "\t Validation accuracy = 0.8292729213616415 \n",
      "\n",
      "Total duration = 740.8540172576904\n"
     ]
    }
   ],
   "source": [
    "# Don't execute this cell, the processed data is loaded in the next cell\n",
    "\n",
    "results = dict()\n",
    "total_time_start = time.time()\n",
    "for min_df in [1,5]:\n",
    "    for max_df in [0.8, 1.0]:\n",
    "        \n",
    "        vectorizer = CountVectorizer(min_df=min_df, max_df=max_df)\n",
    "        trn_data = vectorizer.fit_transform(trn_headline)\n",
    "        val_data = vectorizer.transform(val_headline)\n",
    "\n",
    "        for fit_intercept in [True, False]:\n",
    "            for C in [10.0,1.0,0.1,0.001]:\n",
    "                classifier_name = 'min_df='+str(min_df)+';max_df='+str(max_df)+';fit_intercept='+str(fit_intercept)+';C='+str(C)\n",
    "                results[classifier_name] = dict()\n",
    "                print(classifier_name, end = ' ')\n",
    "\n",
    "                time_start = time.time()\n",
    "                classifier = LogisticRegression(fit_intercept=fit_intercept, penalty=\"l2\", C=C)\n",
    "                classifier.fit(trn_data, trn_topic)\n",
    "                time_end = time.time()\n",
    "                duration = time_end - time_start\n",
    "\n",
    "                print(\"Duration: \"+str(duration))\n",
    "\n",
    "                trn_acc = classifier.score(trn_data, trn_topic)\n",
    "                val_acc = classifier.score(val_data, val_topic)   \n",
    "                print('\\t Training accuracy = {}'.format(trn_acc))\n",
    "                print('\\t Validation accuracy = {} \\n'.format(val_acc))\n",
    "\n",
    "                results[classifier_name]['trn acc'] = trn_acc\n",
    "                results[classifier_name]['val acc'] = val_acc\n",
    "\n",
    "total_time_end = time.time()\n",
    "total_duration = total_time_end - total_time_start\n",
    "print(\"Total duration = \"+str(total_duration))\n",
    "\n",
    "pickle.dump(results, open('results.pkl', 'wb'))"
   ]
  },
  {
   "source": [
    "### Load results.pkl"
   ],
   "cell_type": "markdown",
   "metadata": {}
  },
  {
   "cell_type": "code",
   "execution_count": 70,
   "metadata": {},
   "outputs": [],
   "source": [
    "results = pickle.load(open(\"results.pkl\", \"rb\"))"
   ]
  },
  {
   "cell_type": "code",
   "execution_count": 101,
   "metadata": {},
   "outputs": [
    {
     "output_type": "stream",
     "name": "stdout",
     "text": [
      "Best parameters: min_df=1;max_df=0.8;fit_intercept=False;C=1.0\n\nTraining accuracy = 0.9685977324531542\nValidation accuracy = 0.9478828134266398 \n\n"
     ]
    }
   ],
   "source": [
    "# Get the best model from results\n",
    "\n",
    "keys = list(results.keys())\n",
    "best_model = 0\n",
    "for i in range(len(results)):\n",
    "    if results[keys[i]]['val acc'] > results[keys[best_model]]['val acc']:\n",
    "        best_model = i\n",
    "\n",
    "print('Best parameters: '+keys[best_model]+'\\n')\n",
    "print('Training accuracy = {}'.format(results[keys[best_model]]['trn acc']))\n",
    "print('Validation accuracy = {} \\n'.format(results[keys[best_model]]['val acc']))"
   ]
  },
  {
   "source": [
    "## Conclusion\n",
    "The best model is the one that has the following parameters:\n",
    "- C = 1.0\n",
    "- min_df = 1\n",
    "- max_df = 0.8\n",
    "- fit_intercept = False\n",
    "\n",
    "I choose this model according to the best validation accuracy obtained from all the trained models."
   ],
   "cell_type": "markdown",
   "metadata": {}
  },
  {
   "source": [
    "# (e) Find the Best Performance"
   ],
   "cell_type": "markdown",
   "metadata": {}
  },
  {
   "source": [
    "## Train the best model"
   ],
   "cell_type": "markdown",
   "metadata": {}
  },
  {
   "cell_type": "code",
   "execution_count": 103,
   "metadata": {},
   "outputs": [],
   "source": [
    "vectorizer = CountVectorizer(min_df=1, max_df=0.8)\n",
    "trn_data = vectorizer.fit_transform(trn_headline)\n",
    "val_data = vectorizer.transform(val_headline)\n",
    "tst_data = vectorizer.transform(tst_headline)"
   ]
  },
  {
   "cell_type": "code",
   "execution_count": 104,
   "metadata": {},
   "outputs": [
    {
     "output_type": "execute_result",
     "data": {
      "text/plain": [
       "LogisticRegression(fit_intercept=False)"
      ]
     },
     "metadata": {},
     "execution_count": 104
    }
   ],
   "source": [
    "classifier = LogisticRegression(fit_intercept=False, penalty=\"l2\", C=1.0)\n",
    "classifier.fit(trn_data, trn_topic)"
   ]
  },
  {
   "cell_type": "code",
   "execution_count": 116,
   "metadata": {},
   "outputs": [],
   "source": [
    "prediction = classifier.predict(tst_data)"
   ]
  },
  {
   "cell_type": "code",
   "execution_count": 118,
   "metadata": {},
   "outputs": [
    {
     "output_type": "stream",
     "name": "stdout",
     "text": [
      "                  precision    recall  f1-score   support\n\n        business       0.92      0.93      0.93     11575\n   entertainment       0.97      0.98      0.98     15454\n          health       0.95      0.93      0.94      4596\nscience_and_tech       0.93      0.93      0.93     10829\n\n        accuracy                           0.95     42454\n       macro avg       0.94      0.94      0.94     42454\n    weighted avg       0.95      0.95      0.95     42454\n\n"
     ]
    }
   ],
   "source": [
    "print(classification_report(tst_topic, prediction))"
   ]
  },
  {
   "source": [
    "## Create prediction file"
   ],
   "cell_type": "markdown",
   "metadata": {}
  },
  {
   "cell_type": "code",
   "execution_count": 120,
   "metadata": {},
   "outputs": [],
   "source": [
    "f = open('./news-tst.pred','w')\n",
    "for i, headline in enumerate(tst_headline):\n",
    "    f.write(prediction[i] + '\\t' + headline + '\\n')\n",
    "f.close()"
   ]
  }
 ]
}