{
 "metadata": {
  "language_info": {
   "codemirror_mode": {
    "name": "ipython",
    "version": 3
   },
   "file_extension": ".py",
   "mimetype": "text/x-python",
   "name": "python",
   "nbconvert_exporter": "python",
   "pygments_lexer": "ipython3",
   "version": "3.8.2-final"
  },
  "orig_nbformat": 2,
  "kernelspec": {
   "name": "python3",
   "display_name": "Python 3",
   "language": "python"
  }
 },
 "nbformat": 4,
 "nbformat_minor": 2,
 "cells": [
  {
   "cell_type": "code",
   "execution_count": 9,
   "metadata": {},
   "outputs": [],
   "source": [
    "import torch\n",
    "from torch import nn"
   ]
  },
  {
   "source": [
    "### Create an 4 × 4 orthogonal matrix U"
   ],
   "cell_type": "markdown",
   "metadata": {}
  },
  {
   "cell_type": "code",
   "execution_count": 15,
   "metadata": {},
   "outputs": [
    {
     "output_type": "execute_result",
     "data": {
      "text/plain": [
       "tensor([[ 0.8600, -0.2316, -0.2136, -0.4015],\n",
       "        [-0.3812, -0.1412, -0.8726, -0.2709],\n",
       "        [-0.3333, -0.2597,  0.4346, -0.7953],\n",
       "        [-0.0634, -0.9268,  0.0646,  0.3645]])"
      ]
     },
     "metadata": {},
     "execution_count": 15
    }
   ],
   "source": [
    "U = torch.empty(4,4)\n",
    "nn.init.orthogonal_(U)\n",
    "U"
   ]
  },
  {
   "source": [
    "### U Transpose"
   ],
   "cell_type": "markdown",
   "metadata": {}
  },
  {
   "cell_type": "code",
   "execution_count": 16,
   "metadata": {},
   "outputs": [],
   "source": [
    "U_t = torch.transpose(U,0,1)"
   ]
  },
  {
   "source": [
    "### Verify that U · U T = U T · U = I\n",
    "A = U · U T\n",
    "\n",
    "B = U T · U"
   ],
   "cell_type": "markdown",
   "metadata": {}
  },
  {
   "cell_type": "code",
   "execution_count": 17,
   "metadata": {},
   "outputs": [
    {
     "output_type": "execute_result",
     "data": {
      "text/plain": [
       "tensor([[1.0000e+00, 1.4901e-08, 0.0000e+00, 3.7253e-08],\n",
       "        [1.4901e-08, 1.0000e+00, 0.0000e+00, 6.3330e-08],\n",
       "        [0.0000e+00, 0.0000e+00, 1.0000e+00, 3.3528e-08],\n",
       "        [3.7253e-08, 6.3330e-08, 3.3528e-08, 1.0000e+00]])"
      ]
     },
     "metadata": {},
     "execution_count": 17
    }
   ],
   "source": [
    "A = torch.matmul(U,U_t)\n",
    "A"
   ]
  },
  {
   "cell_type": "code",
   "execution_count": 18,
   "metadata": {},
   "outputs": [
    {
     "output_type": "execute_result",
     "data": {
      "text/plain": [
       "tensor([[ 1.0000e+00, -7.4506e-09, -2.9802e-08, -4.4703e-08],\n",
       "        [-7.4506e-09,  1.0000e+00,  3.7253e-08,  2.9802e-08],\n",
       "        [-2.9802e-08,  3.7253e-08,  1.0000e+00,  0.0000e+00],\n",
       "        [-4.4703e-08,  2.9802e-08,  0.0000e+00,  1.0000e+00]])"
      ]
     },
     "metadata": {},
     "execution_count": 18
    }
   ],
   "source": [
    "B = torch.matmul(U_t, U)\n",
    "B"
   ]
  },
  {
   "cell_type": "code",
   "execution_count": 19,
   "metadata": {},
   "outputs": [
    {
     "output_type": "execute_result",
     "data": {
      "text/plain": [
       "tensor([[1., 0., 0., 0.],\n",
       "        [0., 1., 0., 0.],\n",
       "        [0., 0., 1., 0.],\n",
       "        [0., 0., 0., 1.]])"
      ]
     },
     "metadata": {},
     "execution_count": 19
    }
   ],
   "source": [
    "I = torch.eye(4)\n",
    "I"
   ]
  },
  {
   "source": [
    "### Results\n",
    "The torch.nn.init.orthogonal_() fills the input Tensor with a (semi) orthogonal matrix. Source: https://pytorch.org/docs/stable/nn.init.html . That is why we see numbers that are very close to zero in all the non-diagonal values. If we round the non-diagonal values of both A and B, we would get the Identity matrix."
   ],
   "cell_type": "markdown",
   "metadata": {}
  },
  {
   "cell_type": "code",
   "execution_count": 21,
   "metadata": {},
   "outputs": [
    {
     "output_type": "execute_result",
     "data": {
      "text/plain": [
       "tensor([[1., 0., 0., 0.],\n",
       "        [0., 1., 0., 0.],\n",
       "        [0., 0., 1., 0.],\n",
       "        [0., 0., 0., 1.]])"
      ]
     },
     "metadata": {},
     "execution_count": 21
    }
   ],
   "source": [
    "A.round()"
   ]
  },
  {
   "cell_type": "code",
   "execution_count": 22,
   "metadata": {},
   "outputs": [
    {
     "output_type": "execute_result",
     "data": {
      "text/plain": [
       "tensor([[1., -0., -0., -0.],\n",
       "        [-0., 1., 0., 0.],\n",
       "        [-0., 0., 1., 0.],\n",
       "        [-0., 0., 0., 1.]])"
      ]
     },
     "metadata": {},
     "execution_count": 22
    }
   ],
   "source": [
    "B.round()"
   ]
  }
 ]
}